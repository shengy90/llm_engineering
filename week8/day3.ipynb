{
 "cells": [
  {
   "cell_type": "markdown",
   "id": "0df0d850-49eb-4a0b-a27a-146969db710d",
   "metadata": {},
   "source": [
    "# The Price is Right\n",
    "\n",
    "Today we'll build another piece of the puzzle: a ScanningAgent that looks for promising deals by subscribing to RSS feeds."
   ]
  },
  {
   "cell_type": "code",
   "execution_count": 2,
   "id": "d3763a79-8a5a-4300-8de4-93e85475af10",
   "metadata": {},
   "outputs": [],
   "source": [
    "# imports\n",
    "\n",
    "import os\n",
    "import json\n",
    "from dotenv import load_dotenv\n",
    "from openai import OpenAI\n",
    "from agents.deals import ScrapedDeal, DealSelection"
   ]
  },
  {
   "cell_type": "code",
   "execution_count": 3,
   "id": "c6469e32-16c3-4443-9475-ade710ef6933",
   "metadata": {},
   "outputs": [],
   "source": [
    "# Initialize and constants\n",
    "\n",
    "load_dotenv()\n",
    "os.environ['OPENAI_API_KEY'] = os.getenv('OPENAI_API_KEY', 'your-key-if-not-using-env')\n",
    "MODEL = 'gpt-4o-mini'\n",
    "openai = OpenAI()"
   ]
  },
  {
   "cell_type": "code",
   "execution_count": 4,
   "id": "afece9db-8cd4-46be-ac57-0b472e84da7d",
   "metadata": {},
   "outputs": [
    {
     "name": "stderr",
     "output_type": "stream",
     "text": [
      " 20%|██        | 1/5 [00:26<01:47, 26.95s/it]/Users/shengy/Documents/GitHub/llm_engineering/week8/agents/deals.py:27: MarkupResemblesLocatorWarning: The input looks more like a filename than markup. You may want to open this file and pass the filehandle into Beautiful Soup.\n",
      "  description = BeautifulSoup(description, 'html.parser').get_text()\n",
      "100%|██████████| 5/5 [02:58<00:00, 35.69s/it]\n"
     ]
    }
   ],
   "source": [
    "deals = ScrapedDeal.fetch(show_progress=True)"
   ]
  },
  {
   "cell_type": "code",
   "execution_count": 5,
   "id": "8cd15c4d-eb44-4601-bf0c-f945c1d8e3ec",
   "metadata": {},
   "outputs": [
    {
     "data": {
      "text/plain": [
       "50"
      ]
     },
     "execution_count": 5,
     "metadata": {},
     "output_type": "execute_result"
    }
   ],
   "source": [
    "len(deals)"
   ]
  },
  {
   "cell_type": "code",
   "execution_count": 6,
   "id": "4259f30a-6455-49ed-8863-2f9ddd4776cb",
   "metadata": {},
   "outputs": [
    {
     "data": {
      "text/plain": [
       "\"Title: Lowe's The Back Aisle Clearance Flooring Deals from $1/ sq. ft. + free shipping w/ $35\\nDetails: Shop flooring deals in a variety of sizes and colors. Choose in-store pickup to dodge the $5.99 shipping fee, or get free shipping with orders of $35 or more by signing up to MyLowe's Rewards. (It's free to join.) Buy Now at Lowe's\\nFeatures: \\nURL: https://www.dealnews.com/Lowes-The-Back-Aisle-Clearance-Flooring-Deals-from-1-sq-ft-free-shipping-w-35/21719065.html?iref=rss-c196\""
      ]
     },
     "execution_count": 6,
     "metadata": {},
     "output_type": "execute_result"
    }
   ],
   "source": [
    "deals[44].describe()"
   ]
  },
  {
   "cell_type": "code",
   "execution_count": 7,
   "id": "8100e5ac-38f5-40c1-a712-08ae12c85038",
   "metadata": {},
   "outputs": [],
   "source": [
    "system_prompt = \"\"\"You identify and summarize the 5 most detailed deals from a list, by selecting deals that have the most detailed, high quality description and the most clear price.\n",
    "Respond strictly in JSON with no explanation, using this format. You should provide the price as a number derived from the description. If the price of a deal isn't clear, do not include that deal in your response.\n",
    "Most important is that you respond with the 5 deals that have the most detailed product description with price. It's not important to mention the terms of the deal; most important is a thorough description of the product.\n",
    "Be careful with products that are described as \"$XXX off\" or \"reduced by $XXX\" - this isn't the actual price of the product. Only respond with products when you are highly confident about the price. \n",
    "\n",
    "{\"deals\": [\n",
    "    {\n",
    "        \"product_description\": \"Your clearly expressed summary of the product in 4-5 sentences. Details of the item are much more important than why it's a good deal. Avoid mentioning discounts and coupons; focus on the item itself. There should be a paragpraph of text for each item you choose.\",\n",
    "        \"price\": 99.99,\n",
    "        \"url\": \"the url as provided\"\n",
    "    },\n",
    "    ...\n",
    "]}\"\"\""
   ]
  },
  {
   "cell_type": "code",
   "execution_count": 8,
   "id": "f4bca170-af71-40c9-9597-1d72980c74d8",
   "metadata": {},
   "outputs": [],
   "source": [
    "user_prompt = \"\"\"Respond with the most promising 5 deals from this list, selecting those which have the most detailed, high quality product description and a clear price.\n",
    "Respond strictly in JSON, and only JSON. You should rephrase the description to be a summary of the product itself, not the terms of the deal.\n",
    "Remember to respond with a paragraph of text in the product_description field for each of the 5 items that you select.\n",
    "Be careful with products that are described as \"$XXX off\" or \"reduced by $XXX\" - this isn't the actual price of the product. Only respond with products when you are highly confident about the price. \n",
    "\n",
    "Deals:\n",
    "\n",
    "\"\"\"\n",
    "user_prompt += '\\n\\n'.join([deal.describe() for deal in deals])"
   ]
  },
  {
   "cell_type": "code",
   "execution_count": 9,
   "id": "020947a6-561b-417b-98a0-a085e31d2ce3",
   "metadata": {},
   "outputs": [
    {
     "name": "stdout",
     "output_type": "stream",
     "text": [
      "Respond with the most promising 5 deals from this list, selecting those which have the most detailed, high quality product description and a clear price.\n",
      "Respond strictly in JSON, and only JSON. You should rephrase the description to be a summary of the product itself, not the terms of the deal.\n",
      "Remember to respond with a paragraph of text in the product_description field for each of the 5 items that you select.\n",
      "Be careful with products that are described as \"$XXX off\" or \"reduced by $XXX\" - this isn't the actual price of the product. Only respond with products when you are highly confident about the price. \n",
      "\n",
      "Deals:\n",
      "\n",
      "Title: Samsung Certified Re-Newed Smartphones: At least $300 off w/ trade in good condition + free shipping\n",
      "Details: Save on Galaxy S21, S22, or S23 when you trade your current device in good condition. You can also get $150 off if you have a device with a cracked screen. Shop Now at Samsung\n",
      "Features: \n",
      "URL: https://www.dealnews.com/Samsung-Certified-Re-Newed-Smartphones-At-least-300-off-w-trade-in-good-condition-free-shipping/21719103.html?iref=rss-c142\n",
      "\n",
      "Title: Unlocked Samsung Galaxy Z Flip6 Android Smartphones: Up to $700 off w/ trade + free shipping\n",
      "Details: Save up to $700 when you trade in your current device, dropping potential starting prices to $400.  Shop Now at Samsung\n",
      "Features: \n",
      "URL: https://www.dealnews.com/Unlocked-Samsung-Galaxy-Z-Flip6-Android-Smartphones-Up-to-700-off-w-trade-free-shipping/21719100.html?iref=rss-c142\n",
      "\n",
      "Title: Samsung Galaxy Buds3 Noise Cancelling In-Ear Headphones: Up to $125 off w/ trade + free shipping\n",
      "Details: Save up to $125 when you trade in another audio device, dropping potential starting prices to $55. Shop Now at Samsung\n",
      "Features: \n",
      "URL: https://www.dealnews.com/Samsung-Galaxy-Buds3-Noise-Cancelling-In-Ear-Headphones-Up-to-125-off-w-trade-free-shipping/21719097.html?iref=rss-c142\n",
      "\n",
      "Title: Samsung S90D OLED TVs: Up to $2,100 off + free shipping\n",
      "Details: Save 35% to 40% on the 55\" and 65\" versions, with the best deal\n"
     ]
    }
   ],
   "source": [
    "print(user_prompt[:2000])"
   ]
  },
  {
   "cell_type": "code",
   "execution_count": 10,
   "id": "7de46f74-868c-4127-8a68-cf2da7d600bb",
   "metadata": {},
   "outputs": [],
   "source": [
    "def get_recommendations():\n",
    "    completion = openai.beta.chat.completions.parse(\n",
    "        model=\"gpt-4o-mini\",\n",
    "        messages=[\n",
    "            {\"role\": \"system\", \"content\": system_prompt},\n",
    "            {\"role\": \"user\", \"content\": user_prompt}\n",
    "      ],\n",
    "        response_format=DealSelection\n",
    "    )\n",
    "    result = completion.choices[0].message.parsed\n",
    "    return result"
   ]
  },
  {
   "cell_type": "code",
   "execution_count": 11,
   "id": "4c06270d-8c17-4d5a-9cfe-b6cefe788d5e",
   "metadata": {},
   "outputs": [],
   "source": [
    "result = get_recommendations()"
   ]
  },
  {
   "cell_type": "code",
   "execution_count": 12,
   "id": "84e62845-3338-441a-8161-c70097af4773",
   "metadata": {},
   "outputs": [
    {
     "data": {
      "text/plain": [
       "5"
      ]
     },
     "execution_count": 12,
     "metadata": {},
     "output_type": "execute_result"
    }
   ],
   "source": [
    "len(result.deals)"
   ]
  },
  {
   "cell_type": "code",
   "execution_count": 13,
   "id": "e5554a0a-ae40-4684-ad3e-faa3d22e030c",
   "metadata": {},
   "outputs": [
    {
     "data": {
      "text/plain": [
       "Deal(product_description='Experience stunning visuals with the LG evo C4 Series OLED65C4PUA, a 65-inch 4K UHD Smart TV. It features Dolby Vision, HDR 10 for enhanced picture quality, and a 120Hz refresh rate for smooth motion. This smart TV integrates seamlessly with Amazon Alexa, Google Assistant, and Apple HomeKit, offering easy control and connectivity. Multiple HDMI and USB ports provide flexibility for connecting various devices.', price=1198.0, url='https://www.dealnews.com/products/LG/LG-evo-C4-Series-OLED65-C4-PUA-65-4-K-OLED-UHD-Smart-TV/472547.html?iref=rss-f1912')"
      ]
     },
     "execution_count": 13,
     "metadata": {},
     "output_type": "execute_result"
    }
   ],
   "source": [
    "result.deals[1]"
   ]
  },
  {
   "cell_type": "code",
   "execution_count": 14,
   "id": "8bdc57fb-7497-47af-a643-6ba5a21cc17e",
   "metadata": {},
   "outputs": [],
   "source": [
    "from agents.scanner_agent import ScannerAgent"
   ]
  },
  {
   "cell_type": "code",
   "execution_count": 15,
   "id": "132278bc-217a-43a6-b6c4-724140c6a225",
   "metadata": {},
   "outputs": [],
   "source": [
    "agent = ScannerAgent()\n",
    "result = agent.scan()"
   ]
  },
  {
   "cell_type": "code",
   "execution_count": 16,
   "id": "2e1d013a-c930-4dad-901b-41433379e14b",
   "metadata": {},
   "outputs": [
    {
     "data": {
      "text/plain": [
       "DealSelection(deals=[Deal(product_description='The Certified Refurb EcoFlow Delta Pro is a powerful portable power station with a 3,600Wh capacity, designed to provide reliable energy solutions for both home and outdoor activities. It features multiple output ports, including USB, AC, and DC, allowing you to charge various devices simultaneously. This unit is certified refurbished, ensuring it meets quality standards while being an eco-friendly option. It comes with a 2-year Allstate warranty for added peace of mind.', price=1349.0, url='https://www.dealnews.com/products/Eco-Flow/Eco-Flow-Delta-Pro-3-600-Wh-Power-Station/472609.html?iref=rss-c142'), Deal(product_description='The Samsung Galaxy Watch7 is an advanced smartwatch that comes in two sizes: 40mm and 44mm, catering to different wrist sizes and personal preferences. It features an AMOLED display, fitness tracking capabilities, and customizable watch faces to suit your style. The device integrates seamlessly with your smartphone, allowing for notifications, calls, and music control right from your wrist. It is available with significant savings if you trade in another smartwatch.', price=100.0, url='https://www.dealnews.com/Samsung-Galaxy-Watch7-Smartwatch-Up-to-80-off-or-up-to-200-off-w-trade-free-shipping/21719090.html?iref=rss-c142'), Deal(product_description='The Dell G15 Ryzen 7 Gaming Laptop is equipped with an AMD Ryzen 7 7840HS processor and Nvidia GeForce RTX 4050 graphics, making it powerful enough to run the latest games smoothly. It offers a 15.6\" display with a 165Hz refresh rate for an immersive gaming experience. The laptop includes 16GB DDR5 RAM and a 512GB NVMe SSD for fast performance and ample storage space. This model is an excellent choice for gamers who demand both speed and visual quality.', price=800.0, url='https://www.dealnews.com/products/Dell/Dell-G15-Ryzen-7-15-6-Gaming-Laptop-with-RTX-4050-Graphics/465523.html?iref=rss-c39'), Deal(product_description='The Certified Refurb BenQ GS50 is a portable DLP projector that produces 1080p resolution, offering a high-quality viewing experience for movies and presentations. It boasts an impressive brightness of 500 lumens and features integrated Bluetooth audio for enhanced sound. The projector supports wireless casting and includes multiple connectivity options such as HDMI and USB. This durable projector is also IPX2 splash-proof and drop-proof, making it suitable for outdoor use.', price=409.0, url='https://www.dealnews.com/products/Ben-Q/Certified-Refurb-Ben-Q-GS50-1080-p-Portable-DLP-Projector/386615.html?iref=rss-c39'), Deal(product_description='The LG evo C4 Series 65\" 4K OLED UHD Smart TV is known for its stellar picture quality, featuring a 120Hz refresh rate and support for Dolby Vision and HDR 10. This smart TV runs on webOS, providing access to streaming services and voice control compatibility with Amazon Alexa, Google Assistant, and Apple HomeKit. It includes multiple HDMI inputs and USB ports for connectivity with other devices. This model stands out for its ability to deliver stunning visuals and a versatile smart experience in one package.', price=1198.0, url='https://www.dealnews.com/products/LG/LG-evo-C4-Series-OLED65-C4-PUA-65-4-K-OLED-UHD-Smart-TV/472547.html?iref=rss-f1912')])"
      ]
     },
     "execution_count": 16,
     "metadata": {},
     "output_type": "execute_result"
    }
   ],
   "source": [
    "result"
   ]
  },
  {
   "cell_type": "code",
   "execution_count": 17,
   "id": "5ee2e837-1f1d-42d4-8bc4-51cccc343006",
   "metadata": {},
   "outputs": [
    {
     "data": {
      "text/plain": [
       "agents.deals.DealSelection"
      ]
     },
     "execution_count": 17,
     "metadata": {},
     "output_type": "execute_result"
    }
   ],
   "source": [
    "type(result)"
   ]
  },
  {
   "cell_type": "code",
   "execution_count": 18,
   "id": "2420d262",
   "metadata": {},
   "outputs": [
    {
     "data": {
      "text/plain": [
       "Deal(product_description='The Certified Refurb EcoFlow Delta Pro is a powerful portable power station with a 3,600Wh capacity, designed to provide reliable energy solutions for both home and outdoor activities. It features multiple output ports, including USB, AC, and DC, allowing you to charge various devices simultaneously. This unit is certified refurbished, ensuring it meets quality standards while being an eco-friendly option. It comes with a 2-year Allstate warranty for added peace of mind.', price=1349.0, url='https://www.dealnews.com/products/Eco-Flow/Eco-Flow-Delta-Pro-3-600-Wh-Power-Station/472609.html?iref=rss-c142')"
      ]
     },
     "execution_count": 18,
     "metadata": {},
     "output_type": "execute_result"
    }
   ],
   "source": [
    "result.deals[0]"
   ]
  },
  {
   "cell_type": "code",
   "execution_count": null,
   "id": "13e0584f",
   "metadata": {},
   "outputs": [],
   "source": []
  }
 ],
 "metadata": {
  "kernelspec": {
   "display_name": "llm-engineering-z2emvRX6-py3.11",
   "language": "python",
   "name": "python3"
  },
  "language_info": {
   "codemirror_mode": {
    "name": "ipython",
    "version": 3
   },
   "file_extension": ".py",
   "mimetype": "text/x-python",
   "name": "python",
   "nbconvert_exporter": "python",
   "pygments_lexer": "ipython3",
   "version": "3.11.6"
  }
 },
 "nbformat": 4,
 "nbformat_minor": 5
}

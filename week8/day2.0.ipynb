{
 "cells": [
  {
   "cell_type": "markdown",
   "id": "046fd8f8-ad14-4c7f-b759-fec52f5b5306",
   "metadata": {},
   "source": [
    "# The Price is Right\n",
    "\n",
    "Today we build a more complex solution for estimating prices of goods.\n",
    "\n",
    "1. This notebook: create a RAG database with our 400,000 training data\n",
    "2. Day 2.1 notebook: visualize in 2D\n",
    "3. Day 2.2 notebook: visualize in 3D\n",
    "4. Day 2.3 notebook: build and test a RAG pipeline with GPT-4o-mini\n",
    "5. Day 2.4 notebook: (a) bring back our Random Forest pricer (b) Create a Ensemble pricer that allows contributions from all the pricers\n",
    "\n",
    "Phew! That's a lot to get through in one day!\n",
    "\n",
    "## PLEASE NOTE:\n",
    "\n",
    "We already have a very powerful product estimator with our proprietary, fine-tuned LLM. Most people would be very satisfied with that! The main reason we're adding these extra steps is to deepen your expertise with RAG and with Agentic workflows.\n"
   ]
  },
  {
   "cell_type": "code",
   "execution_count": 1,
   "id": "993a2a24-1a58-42be-8034-6d116fb8d786",
   "metadata": {},
   "outputs": [],
   "source": [
    "# imports\n",
    "\n",
    "import os\n",
    "import re\n",
    "import math\n",
    "import json\n",
    "from tqdm import tqdm\n",
    "import random\n",
    "from dotenv import load_dotenv\n",
    "from huggingface_hub import login\n",
    "import numpy as np\n",
    "import pickle\n",
    "from sentence_transformers import SentenceTransformer\n",
    "from datasets import load_dataset\n",
    "import chromadb\n",
    "from items import Item\n",
    "from sklearn.manifold import TSNE\n",
    "import plotly.graph_objects as go"
   ]
  },
  {
   "cell_type": "code",
   "execution_count": 2,
   "id": "2359ccc0-dbf2-4b1e-9473-e472b32f548b",
   "metadata": {},
   "outputs": [],
   "source": [
    "# environment\n",
    "\n",
    "load_dotenv()\n",
    "os.environ['OPENAI_API_KEY'] = os.getenv('OPENAI_API_KEY', 'your-key-if-not-using-env')\n",
    "os.environ['HF_TOKEN'] = os.getenv('HF_TOKEN', 'your-key-if-not-using-env')\n",
    "DB = \"products_vectorstore\""
   ]
  },
  {
   "cell_type": "code",
   "execution_count": 3,
   "id": "645167e6-cf0d-42d2-949f-1089a25a2841",
   "metadata": {},
   "outputs": [
    {
     "name": "stderr",
     "output_type": "stream",
     "text": [
      "Note: Environment variable`HF_TOKEN` is set and is the current active token independently from the token you've just configured.\n"
     ]
    }
   ],
   "source": [
    "# Log in to HuggingFace\n",
    "\n",
    "hf_token = os.environ['HF_TOKEN']\n",
    "login(hf_token, add_to_git_credential=True)"
   ]
  },
  {
   "cell_type": "markdown",
   "id": "3d4995a4-f67f-4871-87df-8c6439b06366",
   "metadata": {},
   "source": [
    "## Back to the pkl files\n",
    "\n",
    "Much as we enjoyed data curating in week 6, we probably don't want to go through that whole process again!\n",
    "\n",
    "Let's reuse the pkl files we created then. Either copy the files `train.pkl` and `test.pkl` from the Week 6 folder into this Week 8 folder, or you can also download them from here:\n",
    "\n",
    "https://drive.google.com/drive/folders/1f_IZGybvs9o0J5sb3xmtTEQB3BXllzrW?usp=drive_link"
   ]
  },
  {
   "cell_type": "code",
   "execution_count": 8,
   "id": "688bd995-ec3e-43cd-8179-7fe14b275877",
   "metadata": {},
   "outputs": [],
   "source": [
    "# With train.pkl in this folder, you can run this:\n",
    "\n",
    "with open('train.pkl', 'rb') as file:\n",
    "    train = pickle.load(file)"
   ]
  },
  {
   "cell_type": "code",
   "execution_count": 9,
   "id": "2817eaf5-4302-4a18-9148-d1062e3b3dbb",
   "metadata": {},
   "outputs": [
    {
     "data": {
      "text/plain": [
       "'How much does this cost to the nearest dollar?\\n\\nDelphi FG0166 Fuel Pump Module\\nDelphi brings 80 years of OE Heritage into each Delphi pump, ensuring quality and fitment for each Delphi part. Part is validated, tested and matched to the right vehicle application Delphi brings 80 years of OE Heritage into each Delphi assembly, ensuring quality and fitment for each Delphi part Always be sure to check and clean fuel tank to avoid unnecessary returns Rigorous OE-testing ensures the pump can withstand extreme temperatures Brand Delphi, Fit Type Vehicle Specific Fit, Dimensions LxWxH 19.7 x 7.7 x 5.1 inches, Weight 2.2 Pounds, Auto Part Position Unknown, Operation Mode Mechanical, Manufacturer Delphi, Model FUEL PUMP, Dimensions 19.7\\n\\nPrice is $227.00'"
      ]
     },
     "execution_count": 9,
     "metadata": {},
     "output_type": "execute_result"
    }
   ],
   "source": [
    "train[0].prompt"
   ]
  },
  {
   "cell_type": "markdown",
   "id": "9ae1ba16-7e80-4096-ac88-64ef8edcc80c",
   "metadata": {},
   "source": [
    "# Now create a Chroma Datastore\n",
    "\n",
    "In Week 5, we created a Chroma datastore with 123 documents representing chunks of objects from our fictional company Insurellm.\n",
    "\n",
    "Now we will create a Chroma datastore with 400,000 products from our training dataset! It's getting real!\n",
    "\n",
    "Note that we won't be using LangChain, but the API is very straightforward and consistent with before."
   ]
  },
  {
   "cell_type": "code",
   "execution_count": 10,
   "id": "f4aab95e-d719-4476-b6e7-e248120df25a",
   "metadata": {},
   "outputs": [],
   "source": [
    "client = chromadb.PersistentClient(path=DB)"
   ]
  },
  {
   "cell_type": "code",
   "execution_count": 11,
   "id": "5f95dafd-ab80-464e-ba8a-dec7a2424780",
   "metadata": {},
   "outputs": [],
   "source": [
    "# Check if the collection exists and delete it if it does\n",
    "collection_name = \"products\"\n",
    "existing_collection_names = [collection.name for collection in client.list_collections()]\n",
    "if collection_name in existing_collection_names:\n",
    "    client.delete_collection(collection_name)\n",
    "    print(f\"Deleted existing collection: {collection_name}\")\n",
    "\n",
    "collection = client.create_collection(collection_name)"
   ]
  },
  {
   "cell_type": "markdown",
   "id": "d392ed28-203d-4e73-be87-ac1390bdf722",
   "metadata": {},
   "source": [
    "# Introducing the SentenceTransfomer\n",
    "\n",
    "The all-MiniLM is a very useful model from HuggingFace that maps sentences & paragraphs to a 384 dimensional dense vector space and is ideal for tasks like semantic search.\n",
    "\n",
    "https://huggingface.co/sentence-transformers/all-MiniLM-L6-v2\n",
    "\n",
    "It can run pretty quickly locally.\n",
    "\n",
    "Last time we used OpenAI embeddings to produce vector embeddings. Benefits compared to OpenAI embeddings:\n",
    "1. It's free and fast!\n",
    "3. We can run it locally, so the data never leaves our box - might be useful if you're building a personal RAG\n"
   ]
  },
  {
   "cell_type": "code",
   "execution_count": 12,
   "id": "a87db200-d19d-44bf-acbd-15c45c70f5c9",
   "metadata": {},
   "outputs": [
    {
     "data": {
      "application/vnd.jupyter.widget-view+json": {
       "model_id": "5f9918e130fe4a7985dda8f3fbf98fa2",
       "version_major": 2,
       "version_minor": 0
      },
      "text/plain": [
       "modules.json:   0%|          | 0.00/349 [00:00<?, ?B/s]"
      ]
     },
     "metadata": {},
     "output_type": "display_data"
    },
    {
     "data": {
      "application/vnd.jupyter.widget-view+json": {
       "model_id": "546ed7ea9ef6421b838f19ba436e1638",
       "version_major": 2,
       "version_minor": 0
      },
      "text/plain": [
       "config_sentence_transformers.json:   0%|          | 0.00/116 [00:00<?, ?B/s]"
      ]
     },
     "metadata": {},
     "output_type": "display_data"
    },
    {
     "data": {
      "application/vnd.jupyter.widget-view+json": {
       "model_id": "02b6dcd4791042bd8d8cfb12b05c296b",
       "version_major": 2,
       "version_minor": 0
      },
      "text/plain": [
       "README.md:   0%|          | 0.00/10.7k [00:00<?, ?B/s]"
      ]
     },
     "metadata": {},
     "output_type": "display_data"
    },
    {
     "data": {
      "application/vnd.jupyter.widget-view+json": {
       "model_id": "5e7a9bb68ae34fd08f0c90e435a0bc52",
       "version_major": 2,
       "version_minor": 0
      },
      "text/plain": [
       "sentence_bert_config.json:   0%|          | 0.00/53.0 [00:00<?, ?B/s]"
      ]
     },
     "metadata": {},
     "output_type": "display_data"
    },
    {
     "data": {
      "application/vnd.jupyter.widget-view+json": {
       "model_id": "1af3da1397db48a0aaaa530d71774a9e",
       "version_major": 2,
       "version_minor": 0
      },
      "text/plain": [
       "config.json:   0%|          | 0.00/612 [00:00<?, ?B/s]"
      ]
     },
     "metadata": {},
     "output_type": "display_data"
    },
    {
     "data": {
      "application/vnd.jupyter.widget-view+json": {
       "model_id": "77d7ea1bed804d59abe16a503f70be51",
       "version_major": 2,
       "version_minor": 0
      },
      "text/plain": [
       "model.safetensors:   0%|          | 0.00/90.9M [00:00<?, ?B/s]"
      ]
     },
     "metadata": {},
     "output_type": "display_data"
    },
    {
     "data": {
      "application/vnd.jupyter.widget-view+json": {
       "model_id": "ee3e0658c68d477899e6e1ca6b8071c1",
       "version_major": 2,
       "version_minor": 0
      },
      "text/plain": [
       "tokenizer_config.json:   0%|          | 0.00/350 [00:00<?, ?B/s]"
      ]
     },
     "metadata": {},
     "output_type": "display_data"
    },
    {
     "data": {
      "application/vnd.jupyter.widget-view+json": {
       "model_id": "d2f1ef781a90453e8bb8d47e0c329735",
       "version_major": 2,
       "version_minor": 0
      },
      "text/plain": [
       "vocab.txt:   0%|          | 0.00/232k [00:00<?, ?B/s]"
      ]
     },
     "metadata": {},
     "output_type": "display_data"
    },
    {
     "data": {
      "application/vnd.jupyter.widget-view+json": {
       "model_id": "9f40451df64e47e9bc23c159fdf67b30",
       "version_major": 2,
       "version_minor": 0
      },
      "text/plain": [
       "tokenizer.json:   0%|          | 0.00/466k [00:00<?, ?B/s]"
      ]
     },
     "metadata": {},
     "output_type": "display_data"
    },
    {
     "data": {
      "application/vnd.jupyter.widget-view+json": {
       "model_id": "695c83c1d22a4a75b0767fd9f5f0bc45",
       "version_major": 2,
       "version_minor": 0
      },
      "text/plain": [
       "special_tokens_map.json:   0%|          | 0.00/112 [00:00<?, ?B/s]"
      ]
     },
     "metadata": {},
     "output_type": "display_data"
    },
    {
     "data": {
      "application/vnd.jupyter.widget-view+json": {
       "model_id": "1cbb9cb458ac4d4f955d9d4a1ed607c5",
       "version_major": 2,
       "version_minor": 0
      },
      "text/plain": [
       "1_Pooling%2Fconfig.json:   0%|          | 0.00/190 [00:00<?, ?B/s]"
      ]
     },
     "metadata": {},
     "output_type": "display_data"
    }
   ],
   "source": [
    "model = SentenceTransformer('sentence-transformers/all-MiniLM-L6-v2')"
   ]
  },
  {
   "cell_type": "code",
   "execution_count": 13,
   "id": "9b23a025-4c35-4d3a-96ad-b956cad37b0a",
   "metadata": {},
   "outputs": [],
   "source": [
    "# Pass in a list of texts, get back a numpy array of vectors\n",
    "\n",
    "vector = model.encode([\"Well hi there\"])[0]"
   ]
  },
  {
   "cell_type": "code",
   "execution_count": 14,
   "id": "8adde63f-e732-4f7c-bba9-f8b2a469f14e",
   "metadata": {},
   "outputs": [
    {
     "data": {
      "text/plain": [
       "array([-9.46715698e-02,  4.27619144e-02,  5.51620573e-02, -5.11012331e-04,\n",
       "        1.16203437e-02, -6.80130795e-02,  2.76405625e-02,  6.06974475e-02,\n",
       "        2.88530476e-02, -1.74127985e-02, -4.94346432e-02,  2.30993424e-02,\n",
       "       -1.28614521e-02, -4.31403071e-02,  2.17510350e-02,  4.26548980e-02,\n",
       "        5.10500260e-02, -7.79727027e-02, -1.23247199e-01,  3.67455631e-02,\n",
       "        4.54112235e-03,  9.47937965e-02, -5.53098805e-02,  1.70641616e-02,\n",
       "       -2.92872954e-02, -4.47124988e-02,  2.06784084e-02,  6.39320388e-02,\n",
       "        2.27427650e-02,  4.87789549e-02, -2.33505457e-03,  4.72859107e-02,\n",
       "       -2.86259186e-02,  2.30625123e-02,  2.45130043e-02,  3.95681746e-02,\n",
       "       -4.33176495e-02, -1.02316618e-01,  2.79877568e-03,  2.39304863e-02,\n",
       "        1.61556397e-02, -8.99076741e-03,  2.07255669e-02,  6.40122816e-02,\n",
       "        6.89179525e-02, -6.98361024e-02,  2.89761880e-03, -8.10989067e-02,\n",
       "        1.71123091e-02,  2.50656810e-03, -1.06529072e-01, -4.87733111e-02,\n",
       "       -1.67762395e-02, -2.28662062e-02,  1.14816621e-01,  4.87413108e-02,\n",
       "       -1.64961871e-02, -6.90831989e-02,  1.13612086e-01, -7.18485415e-02,\n",
       "       -9.01570842e-02,  3.92606125e-06, -8.66769478e-02, -4.05916572e-02,\n",
       "        3.71317714e-02, -1.77618563e-02, -5.57464249e-02, -4.57097329e-02,\n",
       "       -5.43141551e-02, -4.00612019e-02, -4.60227951e-02,  2.82194261e-02,\n",
       "       -2.33606063e-02,  1.44406362e-02, -1.52777443e-02, -4.34328280e-02,\n",
       "        6.81274608e-02,  8.21894780e-02,  7.83891231e-03, -2.85973065e-02,\n",
       "        6.14309497e-02, -4.92684804e-02,  3.27055785e-03, -2.72682924e-02,\n",
       "       -4.59346548e-02, -2.60167737e-02,  5.70650101e-02, -5.86480193e-04,\n",
       "       -4.37076986e-02, -2.47816090e-04, -8.73549730e-02,  3.48776057e-02,\n",
       "        1.39327291e-02, -1.60043705e-02,  2.86958665e-02, -9.48595703e-02,\n",
       "        9.40613002e-02,  5.92685565e-02, -8.65014717e-02,  1.45011380e-01,\n",
       "        2.35388260e-02,  3.43324691e-02,  2.51574646e-04,  7.15541467e-02,\n",
       "       -3.12182661e-02,  3.86665426e-02, -2.47745533e-02,  6.52674213e-02,\n",
       "       -8.28816891e-02, -2.80247424e-02,  9.34542902e-03, -7.85542652e-03,\n",
       "        5.30728176e-02,  2.96895355e-02,  3.27329710e-02,  4.94737551e-02,\n",
       "        2.52208803e-02,  4.67068516e-02,  5.03403544e-02, -7.23745003e-02,\n",
       "        2.54435111e-02, -3.67216691e-02,  1.27570480e-02,  1.46063864e-02,\n",
       "        2.11492293e-02, -5.56909703e-02, -9.18512139e-03, -5.63397958e-34,\n",
       "        9.58769545e-02,  5.94578050e-02,  5.11445478e-02,  3.36359814e-02,\n",
       "       -1.34414453e-02, -2.77203154e-02, -3.48436348e-02,  1.80352461e-02,\n",
       "       -2.53211092e-02,  6.73585292e-03,  5.47840707e-02, -3.60574573e-02,\n",
       "       -5.20869866e-02, -2.90345848e-02,  4.38963575e-03,  6.50023222e-02,\n",
       "        3.07485033e-02,  2.00220905e-02,  1.73041201e-03,  2.96725938e-03,\n",
       "        3.40957986e-03, -6.78144991e-02,  3.41304429e-02,  8.37862678e-03,\n",
       "        5.39904535e-02,  2.70389766e-02,  7.84119517e-02, -1.30136192e-01,\n",
       "        4.84649949e-02,  5.14179394e-02, -7.94679485e-03,  5.57888951e-03,\n",
       "       -5.31026311e-02,  3.81299183e-02, -3.05512883e-02, -7.69778863e-02,\n",
       "        1.20531581e-02, -4.08993401e-02, -8.69359076e-02,  6.38056174e-02,\n",
       "        1.68674551e-02,  1.68732705e-03,  6.28894493e-02, -1.67711824e-02,\n",
       "        2.15586368e-02,  7.10036198e-04,  2.81029008e-03, -8.89794528e-03,\n",
       "       -1.80887710e-02, -2.16217153e-02, -5.59149869e-02,  1.78774577e-02,\n",
       "       -9.27093253e-02,  7.27912551e-03, -1.27753600e-01, -4.86937575e-02,\n",
       "        1.45872328e-02, -1.62751526e-02,  6.75622597e-02,  3.87702435e-02,\n",
       "        7.23295435e-02,  9.14992318e-02, -9.65291858e-02,  4.84791845e-02,\n",
       "       -1.06274150e-01, -1.05042718e-02,  8.90350416e-02, -8.07525590e-02,\n",
       "        7.87082016e-02, -2.04918049e-02, -5.55080660e-02, -3.31532694e-02,\n",
       "       -2.14429535e-02,  4.94700186e-02, -7.05119446e-02,  6.63998798e-02,\n",
       "        7.39671513e-02, -2.70114280e-03,  1.62262209e-02, -3.98229249e-02,\n",
       "        5.94092645e-02, -7.14370329e-03, -3.33479792e-02,  2.30419319e-02,\n",
       "        1.87185612e-02, -6.15725107e-02, -8.55388353e-04, -1.05786636e-01,\n",
       "       -8.43619406e-02, -3.92993242e-02, -3.16447467e-02,  6.60643950e-02,\n",
       "        9.41815898e-02, -8.35982785e-02,  9.50874947e-03,  1.25503583e-34,\n",
       "        6.38198331e-02,  2.11371128e-02, -1.65899787e-02,  1.88641697e-02,\n",
       "       -5.57018928e-02,  1.82807317e-03, -1.37586575e-02,  8.16279277e-02,\n",
       "       -9.13296714e-02,  7.06855953e-02,  6.79991245e-02, -5.44536225e-02,\n",
       "        3.80394123e-02,  3.80504993e-03,  1.03689790e-01,  7.32799177e-04,\n",
       "        2.95661632e-02,  4.19423878e-02, -1.20444342e-01,  1.24932602e-02,\n",
       "       -5.53506091e-02,  1.75228473e-02, -2.28164587e-02, -5.79299591e-02,\n",
       "        9.42931138e-03, -5.42278914e-03, -3.94941401e-03,  2.82348748e-02,\n",
       "       -1.28066912e-01, -1.31304981e-02,  7.42957294e-02, -1.74529888e-02,\n",
       "       -9.72759277e-02,  8.25623795e-03,  2.06901040e-02, -5.29771205e-03,\n",
       "       -1.37695838e-02, -3.50973681e-02,  1.74977966e-02, -1.76232886e-02,\n",
       "       -6.50825351e-02, -3.84675860e-02, -8.76396596e-02,  3.21291722e-02,\n",
       "        2.55022501e-03, -2.09379066e-02,  5.55309989e-02,  2.57095806e-02,\n",
       "       -2.94735115e-02,  1.25047890e-02, -6.83466122e-02, -8.00624266e-02,\n",
       "       -1.46906618e-02,  1.03744455e-02, -8.51862952e-02, -1.10539347e-02,\n",
       "        2.14596242e-02,  4.08609323e-02,  3.31646390e-02, -2.76757181e-02,\n",
       "       -2.01877747e-02,  8.98884051e-03,  3.92048284e-02,  1.15103364e-01,\n",
       "        5.50441258e-02,  2.72754729e-02, -1.09526701e-01, -1.72623061e-02,\n",
       "        1.33438548e-02, -1.73702184e-02, -5.04372269e-03, -2.00292803e-02,\n",
       "        1.16672337e-01, -1.84323285e-02,  3.70628163e-02,  1.60885621e-02,\n",
       "        3.48830335e-02,  5.50574623e-02, -6.60797209e-03,  7.06828609e-02,\n",
       "        4.07849364e-02, -1.43314507e-02, -2.85437074e-03,  2.74251997e-02,\n",
       "       -4.26768847e-02,  1.26583148e-02,  3.34343463e-02,  1.62644908e-02,\n",
       "        1.19263493e-02, -2.92119198e-02,  2.73978021e-02,  3.44304889e-02,\n",
       "        2.52832398e-02,  3.07514518e-02,  3.22557464e-02, -1.74628489e-08,\n",
       "       -1.52691090e-02,  5.37677901e-03,  1.41246527e-01,  5.08366302e-02,\n",
       "        5.32256328e-02,  9.67938304e-02,  4.33674529e-02, -6.48308499e-03,\n",
       "        1.58604346e-02,  4.05630767e-02,  6.94985464e-02,  6.04905151e-02,\n",
       "       -6.26189336e-02, -3.96144278e-02,  1.10648818e-01,  1.67735517e-02,\n",
       "       -7.68697355e-03,  2.59615183e-02, -5.28792851e-02, -2.22318638e-02,\n",
       "        1.74596421e-02,  4.75340188e-02,  3.27674299e-02, -4.59685400e-02,\n",
       "        2.01770496e-02, -1.60875674e-02, -1.58613827e-02, -1.66658293e-02,\n",
       "       -3.05246804e-02, -3.87907661e-02, -1.27654439e-02,  6.57610670e-02,\n",
       "       -2.22502965e-02, -9.44989547e-03,  2.32079998e-02,  2.66038422e-02,\n",
       "        2.14203596e-02, -7.54580367e-03,  8.84752348e-02, -9.43513885e-02,\n",
       "       -5.74870035e-02, -7.77097717e-02,  1.95793854e-03, -1.50347650e-02,\n",
       "       -8.08496214e-03,  1.88217480e-02,  8.42517801e-03, -3.78591791e-02,\n",
       "        1.24534741e-02, -7.94995427e-02, -2.15790868e-02,  1.20276175e-02,\n",
       "        1.74870919e-02,  8.74479041e-02,  6.64091706e-02,  3.13736610e-02,\n",
       "       -1.00629041e-02,  2.07700655e-02, -5.20163141e-02, -8.91334750e-03,\n",
       "        1.48542315e-01, -2.51266523e-03,  9.93155837e-02,  2.34929379e-02],\n",
       "      dtype=float32)"
      ]
     },
     "execution_count": 14,
     "metadata": {},
     "output_type": "execute_result"
    }
   ],
   "source": [
    "vector"
   ]
  },
  {
   "cell_type": "code",
   "execution_count": 15,
   "id": "38de1bf8-c9b5-45b4-9f4b-86af93b3f80d",
   "metadata": {},
   "outputs": [],
   "source": [
    "def description(item):\n",
    "    text = item.prompt.replace(\"How much does this cost to the nearest dollar?\\n\\n\", \"\")\n",
    "    return text.split(\"\\n\\nPrice is $\")[0]"
   ]
  },
  {
   "cell_type": "code",
   "execution_count": 16,
   "id": "8c1205bd-4692-44ef-8ea4-69f255354537",
   "metadata": {},
   "outputs": [
    {
     "data": {
      "text/plain": [
       "'Delphi FG0166 Fuel Pump Module\\nDelphi brings 80 years of OE Heritage into each Delphi pump, ensuring quality and fitment for each Delphi part. Part is validated, tested and matched to the right vehicle application Delphi brings 80 years of OE Heritage into each Delphi assembly, ensuring quality and fitment for each Delphi part Always be sure to check and clean fuel tank to avoid unnecessary returns Rigorous OE-testing ensures the pump can withstand extreme temperatures Brand Delphi, Fit Type Vehicle Specific Fit, Dimensions LxWxH 19.7 x 7.7 x 5.1 inches, Weight 2.2 Pounds, Auto Part Position Unknown, Operation Mode Mechanical, Manufacturer Delphi, Model FUEL PUMP, Dimensions 19.7'"
      ]
     },
     "execution_count": 16,
     "metadata": {},
     "output_type": "execute_result"
    }
   ],
   "source": [
    "description(train[0])"
   ]
  },
  {
   "cell_type": "code",
   "execution_count": 17,
   "id": "8c79e2fe-1f50-4ebf-9a93-34f3088f2996",
   "metadata": {},
   "outputs": [
    {
     "name": "stderr",
     "output_type": "stream",
     "text": [
      "100%|██████████| 400/400 [26:17<00:00,  3.94s/it]\n"
     ]
    }
   ],
   "source": [
    "for i in tqdm(range(0, len(train), 1000)):\n",
    "    documents = [description(item) for item in train[i: i+1000]]\n",
    "    vectors = model.encode(documents).astype(float).tolist()\n",
    "    metadatas = [{\"category\": item.category, \"price\": item.price} for item in train[i: i+1000]]\n",
    "    ids = [f\"doc_{j}\" for j in range(i, i+1000)]\n",
    "    collection.add(\n",
    "        ids=ids,\n",
    "        documents=documents,\n",
    "        embeddings=vectors,\n",
    "        metadatas=metadatas\n",
    "    )"
   ]
  },
  {
   "cell_type": "code",
   "execution_count": null,
   "id": "58030585",
   "metadata": {},
   "outputs": [],
   "source": []
  }
 ],
 "metadata": {
  "kernelspec": {
   "display_name": "llm-engineering-z2emvRX6-py3.11",
   "language": "python",
   "name": "python3"
  },
  "language_info": {
   "codemirror_mode": {
    "name": "ipython",
    "version": 3
   },
   "file_extension": ".py",
   "mimetype": "text/x-python",
   "name": "python",
   "nbconvert_exporter": "python",
   "pygments_lexer": "ipython3",
   "version": "3.11.6"
  }
 },
 "nbformat": 4,
 "nbformat_minor": 5
}

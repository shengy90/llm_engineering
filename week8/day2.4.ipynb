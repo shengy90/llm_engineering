{
 "cells": [
  {
   "cell_type": "markdown",
   "id": "40d49349-faaa-420c-9b65-0bdc9edfabce",
   "metadata": {},
   "source": [
    "# The Price is Right\n",
    "\n",
    "Today we build a more complex solution for estimating prices of goods.\n",
    "\n",
    "1. Day 2.0 notebook: create a RAG database with our 400,000 training data\n",
    "2. Day 2.1 notebook: visualize in 2D\n",
    "3. Day 2.2 notebook: visualize in 3D\n",
    "4. Day 2.3 notebook: build and test a RAG pipeline with GPT-4o-mini\n",
    "5. Day 2.4 notebook: (a) bring back our Random Forest pricer (b) Create a Ensemble pricer that allows contributions from all the pricers\n",
    "\n",
    "Phew! That's a lot to get through in one day!\n",
    "\n",
    "## PLEASE NOTE:\n",
    "\n",
    "We already have a very powerful product estimator with our proprietary, fine-tuned LLM. Most people would be very satisfied with that! The main reason we're adding these extra steps is to deepen your expertise with RAG and with Agentic workflows.\n",
    "\n",
    "## Finishing off with Random Forests & Ensemble"
   ]
  },
  {
   "cell_type": "code",
   "execution_count": 1,
   "id": "fbcdfea8-7241-46d7-a771-c0381a3e7063",
   "metadata": {},
   "outputs": [],
   "source": [
    "# imports\n",
    "\n",
    "import os\n",
    "import re\n",
    "import math\n",
    "import json\n",
    "from tqdm import tqdm\n",
    "import random\n",
    "from dotenv import load_dotenv\n",
    "from huggingface_hub import login\n",
    "import numpy as np\n",
    "import pickle\n",
    "from openai import OpenAI\n",
    "from sentence_transformers import SentenceTransformer\n",
    "from datasets import load_dataset\n",
    "import chromadb\n",
    "from items import Item\n",
    "from testing import Tester\n",
    "import pandas as pd\n",
    "import numpy as np\n",
    "from sklearn.ensemble import RandomForestRegressor\n",
    "from sklearn.linear_model import LinearRegression\n",
    "from sklearn.metrics import mean_squared_error, r2_score\n",
    "import joblib\n"
   ]
  },
  {
   "cell_type": "code",
   "execution_count": 2,
   "id": "e6e88bd1-f89c-4b98-92fa-aa4bc1575bca",
   "metadata": {},
   "outputs": [],
   "source": [
    "# CONSTANTS\n",
    "\n",
    "QUESTION = \"How much does this cost to the nearest dollar?\\n\\n\"\n",
    "DB = \"products_vectorstore\""
   ]
  },
  {
   "cell_type": "code",
   "execution_count": 3,
   "id": "98666e73-938e-469d-8987-e6e55ba5e034",
   "metadata": {},
   "outputs": [],
   "source": [
    "# environment\n",
    "\n",
    "load_dotenv()\n",
    "os.environ['OPENAI_API_KEY'] = os.getenv('OPENAI_API_KEY', 'your-key-if-not-using-env')\n",
    "os.environ['HF_TOKEN'] = os.getenv('HF_TOKEN', 'your-key-if-not-using-env')"
   ]
  },
  {
   "cell_type": "code",
   "execution_count": 6,
   "id": "dc696493-0b6f-48aa-9fa8-b1ae0ecaf3cd",
   "metadata": {},
   "outputs": [],
   "source": [
    "# Load in the test pickle file:\n",
    "\n",
    "with open('test.pkl', 'rb') as file:\n",
    "    test = pickle.load(file)"
   ]
  },
  {
   "cell_type": "code",
   "execution_count": 7,
   "id": "d26a1104-cd11-4361-ab25-85fb576e0582",
   "metadata": {},
   "outputs": [],
   "source": [
    "client = chromadb.PersistentClient(path=DB)\n",
    "collection = client.get_or_create_collection('products')"
   ]
  },
  {
   "cell_type": "code",
   "execution_count": 8,
   "id": "e00b82a9-a8dc-46f1-8ea9-2f07cbc8e60d",
   "metadata": {},
   "outputs": [],
   "source": [
    "result = collection.get(include=['embeddings', 'documents', 'metadatas'])\n",
    "vectors = np.array(result['embeddings'])\n",
    "documents = result['documents']\n",
    "prices = [metadata['price'] for metadata in result['metadatas']]"
   ]
  },
  {
   "cell_type": "markdown",
   "id": "bf6492cb-b11a-4ad5-859b-a71a78ffb949",
   "metadata": {},
   "source": [
    "# Random Forest\n",
    "\n",
    "We will now train a Random Forest model.\n",
    "\n",
    "Can you spot the difference from what we did in Week 6? In week 6 we used the word2vec model to form vectors; this time we'll use the vectors we already have in Chroma, from the SentenceTransformer model."
   ]
  },
  {
   "cell_type": "code",
   "execution_count": 7,
   "id": "48894777-101f-4fe5-998c-47079407f340",
   "metadata": {},
   "outputs": [
    {
     "ename": "KeyboardInterrupt",
     "evalue": "",
     "output_type": "error",
     "traceback": [
      "\u001b[0;31m---------------------------------------------------------------------------\u001b[0m",
      "\u001b[0;31mKeyboardInterrupt\u001b[0m                         Traceback (most recent call last)",
      "Cell \u001b[0;32mIn[7], line 4\u001b[0m\n\u001b[1;32m      1\u001b[0m \u001b[38;5;66;03m# This next line takes an hour on my M1 Mac!\u001b[39;00m\n\u001b[1;32m      3\u001b[0m rf_model \u001b[38;5;241m=\u001b[39m RandomForestRegressor(n_estimators\u001b[38;5;241m=\u001b[39m\u001b[38;5;241m100\u001b[39m, random_state\u001b[38;5;241m=\u001b[39m\u001b[38;5;241m42\u001b[39m, n_jobs\u001b[38;5;241m=\u001b[39m\u001b[38;5;241m-\u001b[39m\u001b[38;5;241m1\u001b[39m)\n\u001b[0;32m----> 4\u001b[0m \u001b[43mrf_model\u001b[49m\u001b[38;5;241;43m.\u001b[39;49m\u001b[43mfit\u001b[49m\u001b[43m(\u001b[49m\u001b[43mvectors\u001b[49m\u001b[43m,\u001b[49m\u001b[43m \u001b[49m\u001b[43mprices\u001b[49m\u001b[43m)\u001b[49m\n",
      "File \u001b[0;32m~/Library/Caches/pypoetry/virtualenvs/llm-engineering-z2emvRX6-py3.11/lib/python3.11/site-packages/sklearn/base.py:1389\u001b[0m, in \u001b[0;36m_fit_context.<locals>.decorator.<locals>.wrapper\u001b[0;34m(estimator, *args, **kwargs)\u001b[0m\n\u001b[1;32m   1382\u001b[0m     estimator\u001b[38;5;241m.\u001b[39m_validate_params()\n\u001b[1;32m   1384\u001b[0m \u001b[38;5;28;01mwith\u001b[39;00m config_context(\n\u001b[1;32m   1385\u001b[0m     skip_parameter_validation\u001b[38;5;241m=\u001b[39m(\n\u001b[1;32m   1386\u001b[0m         prefer_skip_nested_validation \u001b[38;5;129;01mor\u001b[39;00m global_skip_validation\n\u001b[1;32m   1387\u001b[0m     )\n\u001b[1;32m   1388\u001b[0m ):\n\u001b[0;32m-> 1389\u001b[0m     \u001b[38;5;28;01mreturn\u001b[39;00m \u001b[43mfit_method\u001b[49m\u001b[43m(\u001b[49m\u001b[43mestimator\u001b[49m\u001b[43m,\u001b[49m\u001b[43m \u001b[49m\u001b[38;5;241;43m*\u001b[39;49m\u001b[43margs\u001b[49m\u001b[43m,\u001b[49m\u001b[43m \u001b[49m\u001b[38;5;241;43m*\u001b[39;49m\u001b[38;5;241;43m*\u001b[39;49m\u001b[43mkwargs\u001b[49m\u001b[43m)\u001b[49m\n",
      "File \u001b[0;32m~/Library/Caches/pypoetry/virtualenvs/llm-engineering-z2emvRX6-py3.11/lib/python3.11/site-packages/sklearn/ensemble/_forest.py:487\u001b[0m, in \u001b[0;36mBaseForest.fit\u001b[0;34m(self, X, y, sample_weight)\u001b[0m\n\u001b[1;32m    476\u001b[0m trees \u001b[38;5;241m=\u001b[39m [\n\u001b[1;32m    477\u001b[0m     \u001b[38;5;28mself\u001b[39m\u001b[38;5;241m.\u001b[39m_make_estimator(append\u001b[38;5;241m=\u001b[39m\u001b[38;5;28;01mFalse\u001b[39;00m, random_state\u001b[38;5;241m=\u001b[39mrandom_state)\n\u001b[1;32m    478\u001b[0m     \u001b[38;5;28;01mfor\u001b[39;00m i \u001b[38;5;129;01min\u001b[39;00m \u001b[38;5;28mrange\u001b[39m(n_more_estimators)\n\u001b[1;32m    479\u001b[0m ]\n\u001b[1;32m    481\u001b[0m \u001b[38;5;66;03m# Parallel loop: we prefer the threading backend as the Cython code\u001b[39;00m\n\u001b[1;32m    482\u001b[0m \u001b[38;5;66;03m# for fitting the trees is internally releasing the Python GIL\u001b[39;00m\n\u001b[1;32m    483\u001b[0m \u001b[38;5;66;03m# making threading more efficient than multiprocessing in\u001b[39;00m\n\u001b[1;32m    484\u001b[0m \u001b[38;5;66;03m# that case. However, for joblib 0.12+ we respect any\u001b[39;00m\n\u001b[1;32m    485\u001b[0m \u001b[38;5;66;03m# parallel_backend contexts set at a higher level,\u001b[39;00m\n\u001b[1;32m    486\u001b[0m \u001b[38;5;66;03m# since correctness does not rely on using threads.\u001b[39;00m\n\u001b[0;32m--> 487\u001b[0m trees \u001b[38;5;241m=\u001b[39m \u001b[43mParallel\u001b[49m\u001b[43m(\u001b[49m\n\u001b[1;32m    488\u001b[0m \u001b[43m    \u001b[49m\u001b[43mn_jobs\u001b[49m\u001b[38;5;241;43m=\u001b[39;49m\u001b[38;5;28;43mself\u001b[39;49m\u001b[38;5;241;43m.\u001b[39;49m\u001b[43mn_jobs\u001b[49m\u001b[43m,\u001b[49m\n\u001b[1;32m    489\u001b[0m \u001b[43m    \u001b[49m\u001b[43mverbose\u001b[49m\u001b[38;5;241;43m=\u001b[39;49m\u001b[38;5;28;43mself\u001b[39;49m\u001b[38;5;241;43m.\u001b[39;49m\u001b[43mverbose\u001b[49m\u001b[43m,\u001b[49m\n\u001b[1;32m    490\u001b[0m \u001b[43m    \u001b[49m\u001b[43mprefer\u001b[49m\u001b[38;5;241;43m=\u001b[39;49m\u001b[38;5;124;43m\"\u001b[39;49m\u001b[38;5;124;43mthreads\u001b[39;49m\u001b[38;5;124;43m\"\u001b[39;49m\u001b[43m,\u001b[49m\n\u001b[1;32m    491\u001b[0m \u001b[43m\u001b[49m\u001b[43m)\u001b[49m\u001b[43m(\u001b[49m\n\u001b[1;32m    492\u001b[0m \u001b[43m    \u001b[49m\u001b[43mdelayed\u001b[49m\u001b[43m(\u001b[49m\u001b[43m_parallel_build_trees\u001b[49m\u001b[43m)\u001b[49m\u001b[43m(\u001b[49m\n\u001b[1;32m    493\u001b[0m \u001b[43m        \u001b[49m\u001b[43mt\u001b[49m\u001b[43m,\u001b[49m\n\u001b[1;32m    494\u001b[0m \u001b[43m        \u001b[49m\u001b[38;5;28;43mself\u001b[39;49m\u001b[38;5;241;43m.\u001b[39;49m\u001b[43mbootstrap\u001b[49m\u001b[43m,\u001b[49m\n\u001b[1;32m    495\u001b[0m \u001b[43m        \u001b[49m\u001b[43mX\u001b[49m\u001b[43m,\u001b[49m\n\u001b[1;32m    496\u001b[0m \u001b[43m        \u001b[49m\u001b[43my\u001b[49m\u001b[43m,\u001b[49m\n\u001b[1;32m    497\u001b[0m \u001b[43m        \u001b[49m\u001b[43msample_weight\u001b[49m\u001b[43m,\u001b[49m\n\u001b[1;32m    498\u001b[0m \u001b[43m        \u001b[49m\u001b[43mi\u001b[49m\u001b[43m,\u001b[49m\n\u001b[1;32m    499\u001b[0m \u001b[43m        \u001b[49m\u001b[38;5;28;43mlen\u001b[39;49m\u001b[43m(\u001b[49m\u001b[43mtrees\u001b[49m\u001b[43m)\u001b[49m\u001b[43m,\u001b[49m\n\u001b[1;32m    500\u001b[0m \u001b[43m        \u001b[49m\u001b[43mverbose\u001b[49m\u001b[38;5;241;43m=\u001b[39;49m\u001b[38;5;28;43mself\u001b[39;49m\u001b[38;5;241;43m.\u001b[39;49m\u001b[43mverbose\u001b[49m\u001b[43m,\u001b[49m\n\u001b[1;32m    501\u001b[0m \u001b[43m        \u001b[49m\u001b[43mclass_weight\u001b[49m\u001b[38;5;241;43m=\u001b[39;49m\u001b[38;5;28;43mself\u001b[39;49m\u001b[38;5;241;43m.\u001b[39;49m\u001b[43mclass_weight\u001b[49m\u001b[43m,\u001b[49m\n\u001b[1;32m    502\u001b[0m \u001b[43m        \u001b[49m\u001b[43mn_samples_bootstrap\u001b[49m\u001b[38;5;241;43m=\u001b[39;49m\u001b[43mn_samples_bootstrap\u001b[49m\u001b[43m,\u001b[49m\n\u001b[1;32m    503\u001b[0m \u001b[43m        \u001b[49m\u001b[43mmissing_values_in_feature_mask\u001b[49m\u001b[38;5;241;43m=\u001b[39;49m\u001b[43mmissing_values_in_feature_mask\u001b[49m\u001b[43m,\u001b[49m\n\u001b[1;32m    504\u001b[0m \u001b[43m    \u001b[49m\u001b[43m)\u001b[49m\n\u001b[1;32m    505\u001b[0m \u001b[43m    \u001b[49m\u001b[38;5;28;43;01mfor\u001b[39;49;00m\u001b[43m \u001b[49m\u001b[43mi\u001b[49m\u001b[43m,\u001b[49m\u001b[43m \u001b[49m\u001b[43mt\u001b[49m\u001b[43m \u001b[49m\u001b[38;5;129;43;01min\u001b[39;49;00m\u001b[43m \u001b[49m\u001b[38;5;28;43menumerate\u001b[39;49m\u001b[43m(\u001b[49m\u001b[43mtrees\u001b[49m\u001b[43m)\u001b[49m\n\u001b[1;32m    506\u001b[0m \u001b[43m\u001b[49m\u001b[43m)\u001b[49m\n\u001b[1;32m    508\u001b[0m \u001b[38;5;66;03m# Collect newly grown trees\u001b[39;00m\n\u001b[1;32m    509\u001b[0m \u001b[38;5;28mself\u001b[39m\u001b[38;5;241m.\u001b[39mestimators_\u001b[38;5;241m.\u001b[39mextend(trees)\n",
      "File \u001b[0;32m~/Library/Caches/pypoetry/virtualenvs/llm-engineering-z2emvRX6-py3.11/lib/python3.11/site-packages/sklearn/utils/parallel.py:77\u001b[0m, in \u001b[0;36mParallel.__call__\u001b[0;34m(self, iterable)\u001b[0m\n\u001b[1;32m     72\u001b[0m config \u001b[38;5;241m=\u001b[39m get_config()\n\u001b[1;32m     73\u001b[0m iterable_with_config \u001b[38;5;241m=\u001b[39m (\n\u001b[1;32m     74\u001b[0m     (_with_config(delayed_func, config), args, kwargs)\n\u001b[1;32m     75\u001b[0m     \u001b[38;5;28;01mfor\u001b[39;00m delayed_func, args, kwargs \u001b[38;5;129;01min\u001b[39;00m iterable\n\u001b[1;32m     76\u001b[0m )\n\u001b[0;32m---> 77\u001b[0m \u001b[38;5;28;01mreturn\u001b[39;00m \u001b[38;5;28;43msuper\u001b[39;49m\u001b[43m(\u001b[49m\u001b[43m)\u001b[49m\u001b[38;5;241;43m.\u001b[39;49m\u001b[38;5;21;43m__call__\u001b[39;49m\u001b[43m(\u001b[49m\u001b[43miterable_with_config\u001b[49m\u001b[43m)\u001b[49m\n",
      "File \u001b[0;32m~/Library/Caches/pypoetry/virtualenvs/llm-engineering-z2emvRX6-py3.11/lib/python3.11/site-packages/joblib/parallel.py:2007\u001b[0m, in \u001b[0;36mParallel.__call__\u001b[0;34m(self, iterable)\u001b[0m\n\u001b[1;32m   2001\u001b[0m \u001b[38;5;66;03m# The first item from the output is blank, but it makes the interpreter\u001b[39;00m\n\u001b[1;32m   2002\u001b[0m \u001b[38;5;66;03m# progress until it enters the Try/Except block of the generator and\u001b[39;00m\n\u001b[1;32m   2003\u001b[0m \u001b[38;5;66;03m# reaches the first `yield` statement. This starts the asynchronous\u001b[39;00m\n\u001b[1;32m   2004\u001b[0m \u001b[38;5;66;03m# dispatch of the tasks to the workers.\u001b[39;00m\n\u001b[1;32m   2005\u001b[0m \u001b[38;5;28mnext\u001b[39m(output)\n\u001b[0;32m-> 2007\u001b[0m \u001b[38;5;28;01mreturn\u001b[39;00m output \u001b[38;5;28;01mif\u001b[39;00m \u001b[38;5;28mself\u001b[39m\u001b[38;5;241m.\u001b[39mreturn_generator \u001b[38;5;28;01melse\u001b[39;00m \u001b[38;5;28;43mlist\u001b[39;49m\u001b[43m(\u001b[49m\u001b[43moutput\u001b[49m\u001b[43m)\u001b[49m\n",
      "File \u001b[0;32m~/Library/Caches/pypoetry/virtualenvs/llm-engineering-z2emvRX6-py3.11/lib/python3.11/site-packages/joblib/parallel.py:1650\u001b[0m, in \u001b[0;36mParallel._get_outputs\u001b[0;34m(self, iterator, pre_dispatch)\u001b[0m\n\u001b[1;32m   1647\u001b[0m     \u001b[38;5;28;01myield\u001b[39;00m\n\u001b[1;32m   1649\u001b[0m     \u001b[38;5;28;01mwith\u001b[39;00m \u001b[38;5;28mself\u001b[39m\u001b[38;5;241m.\u001b[39m_backend\u001b[38;5;241m.\u001b[39mretrieval_context():\n\u001b[0;32m-> 1650\u001b[0m         \u001b[38;5;28;01myield from\u001b[39;00m \u001b[38;5;28mself\u001b[39m\u001b[38;5;241m.\u001b[39m_retrieve()\n\u001b[1;32m   1652\u001b[0m \u001b[38;5;28;01mexcept\u001b[39;00m \u001b[38;5;167;01mGeneratorExit\u001b[39;00m:\n\u001b[1;32m   1653\u001b[0m     \u001b[38;5;66;03m# The generator has been garbage collected before being fully\u001b[39;00m\n\u001b[1;32m   1654\u001b[0m     \u001b[38;5;66;03m# consumed. This aborts the remaining tasks if possible and warn\u001b[39;00m\n\u001b[1;32m   1655\u001b[0m     \u001b[38;5;66;03m# the user if necessary.\u001b[39;00m\n\u001b[1;32m   1656\u001b[0m     \u001b[38;5;28mself\u001b[39m\u001b[38;5;241m.\u001b[39m_exception \u001b[38;5;241m=\u001b[39m \u001b[38;5;28;01mTrue\u001b[39;00m\n",
      "File \u001b[0;32m~/Library/Caches/pypoetry/virtualenvs/llm-engineering-z2emvRX6-py3.11/lib/python3.11/site-packages/joblib/parallel.py:1762\u001b[0m, in \u001b[0;36mParallel._retrieve\u001b[0;34m(self)\u001b[0m\n\u001b[1;32m   1757\u001b[0m \u001b[38;5;66;03m# If the next job is not ready for retrieval yet, we just wait for\u001b[39;00m\n\u001b[1;32m   1758\u001b[0m \u001b[38;5;66;03m# async callbacks to progress.\u001b[39;00m\n\u001b[1;32m   1759\u001b[0m \u001b[38;5;28;01mif\u001b[39;00m ((\u001b[38;5;28mlen\u001b[39m(\u001b[38;5;28mself\u001b[39m\u001b[38;5;241m.\u001b[39m_jobs) \u001b[38;5;241m==\u001b[39m \u001b[38;5;241m0\u001b[39m) \u001b[38;5;129;01mor\u001b[39;00m\n\u001b[1;32m   1760\u001b[0m     (\u001b[38;5;28mself\u001b[39m\u001b[38;5;241m.\u001b[39m_jobs[\u001b[38;5;241m0\u001b[39m]\u001b[38;5;241m.\u001b[39mget_status(\n\u001b[1;32m   1761\u001b[0m         timeout\u001b[38;5;241m=\u001b[39m\u001b[38;5;28mself\u001b[39m\u001b[38;5;241m.\u001b[39mtimeout) \u001b[38;5;241m==\u001b[39m TASK_PENDING)):\n\u001b[0;32m-> 1762\u001b[0m     time\u001b[38;5;241m.\u001b[39msleep(\u001b[38;5;241m0.01\u001b[39m)\n\u001b[1;32m   1763\u001b[0m     \u001b[38;5;28;01mcontinue\u001b[39;00m\n\u001b[1;32m   1765\u001b[0m \u001b[38;5;66;03m# We need to be careful: the job list can be filling up as\u001b[39;00m\n\u001b[1;32m   1766\u001b[0m \u001b[38;5;66;03m# we empty it and Python list are not thread-safe by\u001b[39;00m\n\u001b[1;32m   1767\u001b[0m \u001b[38;5;66;03m# default hence the use of the lock\u001b[39;00m\n",
      "\u001b[0;31mKeyboardInterrupt\u001b[0m: "
     ]
    }
   ],
   "source": [
    "# This next line takes an hour on my M1 Mac!\n",
    "\n",
    "rf_model = RandomForestRegressor(n_estimators=100, random_state=42, n_jobs=-1)\n",
    "rf_model.fit(vectors, prices)"
   ]
  },
  {
   "cell_type": "code",
   "execution_count": null,
   "id": "62eb7ddf-e1da-481e-84c6-1256547566bd",
   "metadata": {},
   "outputs": [],
   "source": [
    "# Save the model to a file\n",
    "\n",
    "joblib.dump(rf_model, 'random_forest_model.pkl')"
   ]
  },
  {
   "cell_type": "code",
   "execution_count": 10,
   "id": "d281dc5e-761e-4a5e-86b3-29d9c0a33d4a",
   "metadata": {},
   "outputs": [
    {
     "name": "stderr",
     "output_type": "stream",
     "text": [
      "/Users/shengy/Library/Caches/pypoetry/virtualenvs/llm-engineering-z2emvRX6-py3.11/lib/python3.11/site-packages/sklearn/base.py:380: InconsistentVersionWarning: Trying to unpickle estimator DecisionTreeRegressor from version 1.5.2 when using version 1.6.1. This might lead to breaking code or invalid results. Use at your own risk. For more info please refer to:\n",
      "https://scikit-learn.org/stable/model_persistence.html#security-maintainability-limitations\n",
      "  warnings.warn(\n",
      "/Users/shengy/Library/Caches/pypoetry/virtualenvs/llm-engineering-z2emvRX6-py3.11/lib/python3.11/site-packages/sklearn/base.py:380: InconsistentVersionWarning: Trying to unpickle estimator RandomForestRegressor from version 1.5.2 when using version 1.6.1. This might lead to breaking code or invalid results. Use at your own risk. For more info please refer to:\n",
      "https://scikit-learn.org/stable/model_persistence.html#security-maintainability-limitations\n",
      "  warnings.warn(\n"
     ]
    }
   ],
   "source": [
    "# Load it back in again\n",
    "\n",
    "rf_model = joblib.load('../random_forest_model.pkl')"
   ]
  },
  {
   "cell_type": "code",
   "execution_count": 11,
   "id": "5d438dec-8e5b-4e60-bb6f-c3f82e522dd9",
   "metadata": {},
   "outputs": [],
   "source": [
    "from agents.specialist_agent import SpecialistAgent\n",
    "from agents.frontier_agent import FrontierAgent\n",
    "from agents.random_forest_agent import RandomForestAgent"
   ]
  },
  {
   "cell_type": "code",
   "execution_count": 15,
   "id": "afc39369-b97b-4a90-b17e-b20ef501d3c9",
   "metadata": {},
   "outputs": [
    {
     "name": "stderr",
     "output_type": "stream",
     "text": [
      "/Users/shengy/Library/Caches/pypoetry/virtualenvs/llm-engineering-z2emvRX6-py3.11/lib/python3.11/site-packages/sklearn/base.py:380: InconsistentVersionWarning: Trying to unpickle estimator DecisionTreeRegressor from version 1.5.2 when using version 1.6.1. This might lead to breaking code or invalid results. Use at your own risk. For more info please refer to:\n",
      "https://scikit-learn.org/stable/model_persistence.html#security-maintainability-limitations\n",
      "  warnings.warn(\n",
      "/Users/shengy/Library/Caches/pypoetry/virtualenvs/llm-engineering-z2emvRX6-py3.11/lib/python3.11/site-packages/sklearn/base.py:380: InconsistentVersionWarning: Trying to unpickle estimator RandomForestRegressor from version 1.5.2 when using version 1.6.1. This might lead to breaking code or invalid results. Use at your own risk. For more info please refer to:\n",
      "https://scikit-learn.org/stable/model_persistence.html#security-maintainability-limitations\n",
      "  warnings.warn(\n"
     ]
    }
   ],
   "source": [
    "specialist = SpecialistAgent()\n",
    "frontier = FrontierAgent(collection)\n",
    "random_forest = RandomForestAgent()"
   ]
  },
  {
   "cell_type": "code",
   "execution_count": 16,
   "id": "8e2d0d0a-8bb8-4b39-b046-322828c39244",
   "metadata": {},
   "outputs": [],
   "source": [
    "def description(item):\n",
    "    return item.prompt.split(\"to the nearest dollar?\\n\\n\")[1].split(\"\\n\\nPrice is $\")[0]"
   ]
  },
  {
   "cell_type": "code",
   "execution_count": 17,
   "id": "bfe0434f-b29e-4cc0-bad9-b07624665727",
   "metadata": {},
   "outputs": [],
   "source": [
    "def rf(item):\n",
    "    return random_forest.price(description(item))"
   ]
  },
  {
   "cell_type": "code",
   "execution_count": 18,
   "id": "cdf233ec-264f-4b34-9f2b-27c39692137b",
   "metadata": {},
   "outputs": [
    {
     "name": "stdout",
     "output_type": "stream",
     "text": [
      "\u001b[93m1: Guess: $289.99 Truth: $374.41 Error: $84.42 SLE: 0.06 Item: OEM AC Compressor w/A/C Repair Kit For F...\u001b[0m\n",
      "\u001b[92m2: Guess: $196.65 Truth: $225.11 Error: $28.46 SLE: 0.02 Item: Motorcraft YB3125 Fan Clutch\u001b[0m\n",
      "\u001b[91m3: Guess: $213.42 Truth: $61.68 Error: $151.74 SLE: 1.51 Item: Dorman 603-159 Front Washer Fluid Reserv...\u001b[0m\n",
      "\u001b[93m4: Guess: $364.84 Truth: $599.99 Error: $235.15 SLE: 0.25 Item: HP Premium 17.3-inch HD Plus Touchscreen...\u001b[0m\n",
      "\u001b[91m5: Guess: $195.52 Truth: $16.99 Error: $178.53 SLE: 5.72 Item: 5-Position Super Switch Pickup Selector ...\u001b[0m\n",
      "\u001b[92m6: Guess: $69.63 Truth: $31.99 Error: $37.64 SLE: 0.58 Item: Horror Bookmarks, Resin Horror Bookmarks...\u001b[0m\n",
      "\u001b[91m7: Guess: $275.91 Truth: $101.79 Error: $174.12 SLE: 0.98 Item: SK6241 - Stinger 4 Gauge 6000 Series Pow...\u001b[0m\n",
      "\u001b[93m8: Guess: $222.00 Truth: $289.00 Error: $67.00 SLE: 0.07 Item: Godox ML60Bi LED Light Kit, Handheld LED...\u001b[0m\n",
      "\u001b[91m9: Guess: $275.46 Truth: $635.86 Error: $360.40 SLE: 0.70 Item: Randall RG75DG3PLUS G3 Plus 100-Watt Com...\u001b[0m\n",
      "\u001b[91m10: Guess: $182.72 Truth: $65.99 Error: $116.73 SLE: 1.02 Item: HOLDWILL 6 Pack LED Shop Light, 4FT 24W ...\u001b[0m\n",
      "\u001b[92m11: Guess: $259.06 Truth: $254.21 Error: $4.85 SLE: 0.00 Item: Viking Horns V103C/1005ATK 3 Gallon Air ...\u001b[0m\n",
      "\u001b[91m12: Guess: $220.22 Truth: $412.99 Error: $192.77 SLE: 0.39 Item: CURT 70110 Custom Tow Bar Base Plate Bra...\u001b[0m\n",
      "\u001b[92m13: Guess: $171.30 Truth: $205.50 Error: $34.20 SLE: 0.03 Item: 10-Pack Solar HAMMERED BRONZE Finish Pos...\u001b[0m\n",
      "\u001b[92m14: Guess: $267.41 Truth: $248.23 Error: $19.18 SLE: 0.01 Item: COSTWAY Electric Tumble Dryer, Sliver\u001b[0m\n",
      "\u001b[93m15: Guess: $286.92 Truth: $399.00 Error: $112.08 SLE: 0.11 Item: FREE SIGNAL TV Transit 32\" 12 Volt DC Po...\u001b[0m\n",
      "\u001b[92m16: Guess: $349.58 Truth: $373.94 Error: $24.36 SLE: 0.00 Item: Bilstein 5100 Monotube Gas Shock Set com...\u001b[0m\n",
      "\u001b[91m17: Guess: $235.41 Truth: $92.89 Error: $142.52 SLE: 0.85 Item: Sangean K-200 Multi-Function Upright AM/...\u001b[0m\n",
      "\u001b[93m18: Guess: $117.23 Truth: $51.99 Error: $65.24 SLE: 0.64 Item: Charles Leonard Magnetic Lapboard Class ...\u001b[0m\n",
      "\u001b[91m19: Guess: $425.97 Truth: $179.00 Error: $246.97 SLE: 0.75 Item: Gigabyte AMD Radeon HD 7870 2 GB GDDR5 D...\u001b[0m\n",
      "\u001b[93m20: Guess: $71.15 Truth: $19.42 Error: $51.73 SLE: 1.59 Item: 3dRose LLC 8 x 8 x 0.25 Inches Bull Terr...\u001b[0m\n",
      "\u001b[93m21: Guess: $341.22 Truth: $539.95 Error: $198.73 SLE: 0.21 Item: ROKINON 85mm F1.4 Auto Focus Full Frame ...\u001b[0m\n",
      "\u001b[93m22: Guess: $216.19 Truth: $147.67 Error: $68.52 SLE: 0.14 Item: AUTOSAVER88 Headlight Assembly Compatibl...\u001b[0m\n",
      "\u001b[91m23: Guess: $193.20 Truth: $24.99 Error: $168.21 SLE: 4.04 Item: ASI NAUTICAL 2.5 Inches Opera Glasses Bi...\u001b[0m\n",
      "\u001b[91m24: Guess: $287.75 Truth: $149.00 Error: $138.75 SLE: 0.43 Item: Behringer TUBE OVERDRIVE TO100 Authentic...\u001b[0m\n",
      "\u001b[92m25: Guess: $42.07 Truth: $16.99 Error: $25.08 SLE: 0.76 Item: Fun Express Insect Finger Puppets - 24 f...\u001b[0m\n",
      "\u001b[91m26: Guess: $120.42 Truth: $7.99 Error: $112.43 SLE: 6.78 Item: WAFJAMF Roller Stamp Identity Theft Stam...\u001b[0m\n",
      "\u001b[92m27: Guess: $202.46 Truth: $199.99 Error: $2.47 SLE: 0.00 Item: Capulina Tiffany Floor Lamp 2-Light 16\" ...\u001b[0m\n",
      "\u001b[92m28: Guess: $286.22 Truth: $251.45 Error: $34.77 SLE: 0.02 Item: Apple Watch Series 6 (GPS, 44mm) - Space...\u001b[0m\n",
      "\u001b[92m29: Guess: $252.88 Truth: $231.62 Error: $21.26 SLE: 0.01 Item: ICON 01725 Tandem Axle Fender Skirt FS17...\u001b[0m\n",
      "\u001b[93m30: Guess: $184.08 Truth: $135.00 Error: $49.08 SLE: 0.09 Item: SanDisk 128GB Ultra (10 Pack) MicroSD Cl...\u001b[0m\n",
      "\u001b[92m31: Guess: $304.83 Truth: $356.62 Error: $51.79 SLE: 0.02 Item: Velvac 2020,L,C/Hr,W,E2003,102\",Bk - 715...\u001b[0m\n",
      "\u001b[92m32: Guess: $245.45 Truth: $257.99 Error: $12.54 SLE: 0.00 Item: TCMT Passenger Backrest Sissy Bar & Lugg...\u001b[0m\n",
      "\u001b[91m33: Guess: $200.22 Truth: $27.99 Error: $172.23 SLE: 3.75 Item: Alnicov 63.5MM Brass Tremolo Block，Tremo...\u001b[0m\n",
      "\u001b[91m34: Guess: $270.72 Truth: $171.20 Error: $99.52 SLE: 0.21 Item: Subaru Forester Outback Legacy OEM Engin...\u001b[0m\n",
      "\u001b[92m35: Guess: $241.48 Truth: $225.00 Error: $16.48 SLE: 0.00 Item: Richmond Auto Upholstery - 2012 Dodge Ra...\u001b[0m\n",
      "\u001b[93m36: Guess: $161.31 Truth: $105.00 Error: $56.31 SLE: 0.18 Item: AP-39 Automotive Paint Primer Grey 2K Ur...\u001b[0m\n",
      "\u001b[93m37: Guess: $227.43 Truth: $299.99 Error: $72.56 SLE: 0.08 Item: Road Top Wireless Carplay Retrofit Kit D...\u001b[0m\n",
      "\u001b[93m38: Guess: $675.36 Truth: $535.09 Error: $140.27 SLE: 0.05 Item: Gibson Performance Exhaust 5658 Aluminiz...\u001b[0m\n",
      "\u001b[91m39: Guess: $125.74 Truth: $12.33 Error: $113.41 SLE: 5.07 Item: Bella Tunno Happy Links - Baby Montessor...\u001b[0m\n",
      "\u001b[91m40: Guess: $208.98 Truth: $84.99 Error: $123.99 SLE: 0.80 Item: CANMORE H300 Handheld GPS Golf Device, S...\u001b[0m\n",
      "\u001b[91m41: Guess: $134.14 Truth: $15.99 Error: $118.15 SLE: 4.30 Item: DCPOWER AC Adapter Compatible Replacemen...\u001b[0m\n",
      "\u001b[91m42: Guess: $189.20 Truth: $62.44 Error: $126.76 SLE: 1.21 Item: Sharp, VX2128V, Commercial Desktop Calcu...\u001b[0m\n",
      "\u001b[92m43: Guess: $109.19 Truth: $82.99 Error: $26.20 SLE: 0.07 Item: Melissa & Doug Lifelike Plush Stork Gian...\u001b[0m\n",
      "\u001b[91m44: Guess: $271.23 Truth: $599.95 Error: $328.72 SLE: 0.63 Item: Sony SSCS8 2-Way 3-Driver Center Channel...\u001b[0m\n",
      "\u001b[93m45: Guess: $263.61 Truth: $194.99 Error: $68.62 SLE: 0.09 Item: ASUS Chromebook CX1, 14\" Full HD NanoEdg...\u001b[0m\n",
      "\u001b[92m46: Guess: $297.28 Truth: $344.95 Error: $47.67 SLE: 0.02 Item: FiiO X7 32GB Hi-Res Lossless Music Playe...\u001b[0m\n",
      "\u001b[92m47: Guess: $33.59 Truth: $37.99 Error: $4.40 SLE: 0.01 Item: TORRO Leather Case Compatible with iPhon...\u001b[0m\n",
      "\u001b[92m48: Guess: $229.00 Truth: $224.35 Error: $4.65 SLE: 0.00 Item: Universal Air Conditioner KT 1031 A/C Co...\u001b[0m\n",
      "\u001b[92m49: Guess: $750.53 Truth: $814.00 Error: $63.47 SLE: 0.01 Item: Street Series Stainless Performance Cat-...\u001b[0m\n",
      "\u001b[92m50: Guess: $451.85 Truth: $439.88 Error: $11.97 SLE: 0.00 Item: Lenovo IdeaPad 3 14-inch Laptop, 14.0-in...\u001b[0m\n",
      "\u001b[92m51: Guess: $300.12 Truth: $341.43 Error: $41.31 SLE: 0.02 Item: Access Bed Covers TonnoSport 22050219 - ...\u001b[0m\n",
      "\u001b[91m52: Guess: $231.35 Truth: $46.78 Error: $184.57 SLE: 2.50 Item: G.I. JOE Hasbro 3 3/4\" Wave 5 Action Fig...\u001b[0m\n",
      "\u001b[93m53: Guess: $118.61 Truth: $171.44 Error: $52.83 SLE: 0.13 Item: T&S Brass B-0232-BST Double Pantry Fauce...\u001b[0m\n",
      "\u001b[91m54: Guess: $224.06 Truth: $458.00 Error: $233.94 SLE: 0.51 Item: ZTUOAUMA Fuel Injection Pump 3090942 309...\u001b[0m\n",
      "\u001b[91m55: Guess: $212.47 Truth: $130.75 Error: $81.72 SLE: 0.23 Item: 2AP18AA#ABA Hp Prime Graphing Calculator...\u001b[0m\n",
      "\u001b[91m56: Guess: $203.98 Truth: $83.81 Error: $120.17 SLE: 0.78 Item: Lowrance 000-0119-83 Nmea 2000 25' Exten...\u001b[0m\n",
      "\u001b[91m57: Guess: $178.24 Truth: $386.39 Error: $208.15 SLE: 0.59 Item: Jeep Genuine Accessories 82213051 Hood L...\u001b[0m\n",
      "\u001b[93m58: Guess: $222.32 Truth: $169.00 Error: $53.32 SLE: 0.07 Item: GODOX CB-06 Hard Carrying Case with Whee...\u001b[0m\n",
      "\u001b[91m59: Guess: $162.16 Truth: $17.95 Error: $144.21 SLE: 4.64 Item: Au-Tomotive Gold, INC. Ford Black Valet ...\u001b[0m\n",
      "\u001b[92m60: Guess: $253.29 Truth: $269.00 Error: $15.71 SLE: 0.00 Item: Snailfly Black Roof Rack Rail + Cross Ba...\u001b[0m\n",
      "\u001b[91m61: Guess: $199.17 Truth: $77.77 Error: $121.40 SLE: 0.87 Item: KING SHA Anti Glare LED Track Lighting H...\u001b[0m\n",
      "\u001b[91m62: Guess: $190.35 Truth: $88.99 Error: $101.36 SLE: 0.57 Item: APS Compatible with Chevy Silverado 1500...\u001b[0m\n",
      "\u001b[93m63: Guess: $254.11 Truth: $364.41 Error: $110.30 SLE: 0.13 Item: Wilwood Engineering 14011291R Brake Cali...\u001b[0m\n",
      "\u001b[92m64: Guess: $149.02 Truth: $127.03 Error: $21.99 SLE: 0.03 Item: ACDelco Gold 336-1925A Starter, Remanufa...\u001b[0m\n",
      "\u001b[92m65: Guess: $643.93 Truth: $778.95 Error: $135.02 SLE: 0.04 Item: UWS EC10783 69-Inch Matte Black Heavy-Wa...\u001b[0m\n",
      "\u001b[91m66: Guess: $448.25 Truth: $206.66 Error: $241.59 SLE: 0.60 Item: Dell Latitude E5440 14in Business Laptop...\u001b[0m\n",
      "\u001b[91m67: Guess: $184.53 Truth: $35.94 Error: $148.59 SLE: 2.60 Item: (Plug and Play) Spare Tire Brake Light W...\u001b[0m\n",
      "\u001b[91m68: Guess: $299.63 Truth: $149.00 Error: $150.63 SLE: 0.48 Item: The Ultimate Roadside Rescue Assistant\u001b[0m\n",
      "\u001b[92m69: Guess: $223.16 Truth: $251.98 Error: $28.82 SLE: 0.01 Item: Brand New 18\" x 8.5\" Replacement Wheel f...\u001b[0m\n",
      "\u001b[93m70: Guess: $205.25 Truth: $160.00 Error: $45.25 SLE: 0.06 Item: Headlight Headlamp LH Left & RH Right Pa...\u001b[0m\n",
      "\u001b[93m71: Guess: $114.25 Truth: $39.99 Error: $74.26 SLE: 1.07 Item: Lilo And Stitch Deluxe Oversize Print La...\u001b[0m\n",
      "\u001b[93m72: Guess: $253.33 Truth: $362.41 Error: $109.08 SLE: 0.13 Item: AC Compressor & A/C Clutch For Hyundai A...\u001b[0m\n",
      "\u001b[92m73: Guess: $291.06 Truth: $344.00 Error: $52.94 SLE: 0.03 Item: House Of Troy PIN475-AB Pinnacle Collect...\u001b[0m\n",
      "\u001b[91m74: Guess: $177.42 Truth: $25.09 Error: $152.33 SLE: 3.70 Item: Juno T29 WH Floating Electrical Feed Sin...\u001b[0m\n",
      "\u001b[92m75: Guess: $161.97 Truth: $175.95 Error: $13.98 SLE: 0.01 Item: Sherman GO-PARTS - for 2013-2016 Toyota ...\u001b[0m\n",
      "\u001b[91m76: Guess: $228.21 Truth: $132.64 Error: $95.57 SLE: 0.29 Item: Roland RPU-3 Electronic Keyboard Pedal o...\u001b[0m\n",
      "\u001b[93m77: Guess: $274.40 Truth: $422.99 Error: $148.59 SLE: 0.19 Item: Rockland VMI14 12,000 Pound 12 Volt DC E...\u001b[0m\n",
      "\u001b[92m78: Guess: $167.17 Truth: $146.48 Error: $20.69 SLE: 0.02 Item: Max Advanced Brakes Elite XDS Front Cros...\u001b[0m\n",
      "\u001b[92m79: Guess: $195.23 Truth: $156.83 Error: $38.40 SLE: 0.05 Item: Quality-Built 11030 Premium Quality Alte...\u001b[0m\n",
      "\u001b[91m80: Guess: $364.50 Truth: $251.99 Error: $112.51 SLE: 0.14 Item: Lucida LG-510 Student Classical Guitar, ...\u001b[0m\n",
      "\u001b[91m81: Guess: $231.66 Truth: $940.33 Error: $708.67 SLE: 1.95 Item: Longacre 52-79800 Aluminum Turn Plates\u001b[0m\n",
      "\u001b[91m82: Guess: $175.86 Truth: $52.99 Error: $122.87 SLE: 1.41 Item: Motion Pro 08-0380 Adjustable Torque Wre...\u001b[0m\n",
      "\u001b[93m83: Guess: $264.10 Truth: $219.95 Error: $44.15 SLE: 0.03 Item: Glyph Thunderbolt 3 NVMe Dock (0 GB)\u001b[0m\n",
      "\u001b[91m84: Guess: $263.57 Truth: $441.03 Error: $177.46 SLE: 0.26 Item: TOYO Open Country MT Performance Radial ...\u001b[0m\n",
      "\u001b[93m85: Guess: $236.33 Truth: $168.98 Error: $67.35 SLE: 0.11 Item: Razer Seiren X USB Streaming Microphone ...\u001b[0m\n",
      "\u001b[92m86: Guess: $33.74 Truth: $2.49 Error: $31.25 SLE: 5.28 Item: Happy Birthday to Dad From Your Daughter...\u001b[0m\n",
      "\u001b[91m87: Guess: $185.74 Truth: $98.62 Error: $87.12 SLE: 0.39 Item: Little Tikes My Real Jam First Concert S...\u001b[0m\n",
      "\u001b[92m88: Guess: $252.21 Truth: $256.95 Error: $4.74 SLE: 0.00 Item: Studio M Peace and Harmony Art Pole Comm...\u001b[0m\n",
      "\u001b[91m89: Guess: $210.60 Truth: $30.99 Error: $179.61 SLE: 3.57 Item: MyVolts 12V Power Supply Adaptor Compati...\u001b[0m\n",
      "\u001b[93m90: Guess: $350.19 Truth: $569.84 Error: $219.65 SLE: 0.24 Item: Dell Latitude 7212 Rugged Extreme Tablet...\u001b[0m\n",
      "\u001b[93m91: Guess: $225.92 Truth: $177.99 Error: $47.93 SLE: 0.06 Item: Covermates Contour Fit Car Cover - Light...\u001b[0m\n",
      "\u001b[93m92: Guess: $615.80 Truth: $997.99 Error: $382.19 SLE: 0.23 Item: Westin 57-4025 Black HDX Grille Guard fi...\u001b[0m\n",
      "\u001b[92m93: Guess: $250.11 Truth: $219.00 Error: $31.11 SLE: 0.02 Item: Fieldpiece JL2 Job Link Wireless App Tra...\u001b[0m\n",
      "\u001b[93m94: Guess: $284.68 Truth: $225.55 Error: $59.13 SLE: 0.05 Item: hansgrohe Talis S Modern Premium Easy Cl...\u001b[0m\n",
      "\u001b[93m95: Guess: $330.56 Truth: $495.95 Error: $165.39 SLE: 0.16 Item: G-Technology G-SPEED eS PRO High-Perform...\u001b[0m\n",
      "\u001b[92m96: Guess: $769.64 Truth: $942.37 Error: $172.73 SLE: 0.04 Item: DreamLine SHDR-1960723L-01 Shower Door, ...\u001b[0m\n",
      "\u001b[91m97: Guess: $152.95 Truth: $1.94 Error: $151.01 SLE: 15.67 Item: Sanctuary Square Backplate Finish: Oiled...\u001b[0m\n",
      "\u001b[92m98: Guess: $275.14 Truth: $284.34 Error: $9.20 SLE: 0.00 Item: Pelican Protector 1750 Long Case - Multi...\u001b[0m\n",
      "\u001b[92m99: Guess: $186.59 Truth: $171.90 Error: $14.69 SLE: 0.01 Item: Brock Replacement Driver and Passenger H...\u001b[0m\n",
      "\u001b[93m100: Guess: $210.11 Truth: $144.99 Error: $65.12 SLE: 0.14 Item: Carlinkit Ai Box Mini, Android 11, Multi...\u001b[0m\n",
      "\u001b[91m101: Guess: $268.78 Truth: $470.47 Error: $201.69 SLE: 0.31 Item: StarDot NetCamLIVE2 YouTube Live Stream ...\u001b[0m\n",
      "\u001b[91m102: Guess: $209.91 Truth: $66.95 Error: $142.96 SLE: 1.28 Item: Atomic Compatible FILXXCAR0016 16x25x5 M...\u001b[0m\n",
      "\u001b[93m103: Guess: $164.40 Truth: $117.00 Error: $47.40 SLE: 0.11 Item: Bandai Awakening of S. H. s.h.figuarts s...\u001b[0m\n",
      "\u001b[91m104: Guess: $272.69 Truth: $172.14 Error: $100.55 SLE: 0.21 Item: Fit System 62135G Passenger Side Towing ...\u001b[0m\n",
      "\u001b[92m105: Guess: $315.63 Truth: $392.74 Error: $77.11 SLE: 0.05 Item: Black Horse Black Aluminum Exceed Runnin...\u001b[0m\n",
      "\u001b[92m106: Guess: $41.32 Truth: $16.99 Error: $24.33 SLE: 0.73 Item: Dearsun Twinkle Star Color Night Light P...\u001b[0m\n",
      "\u001b[93m107: Guess: $54.31 Truth: $1.34 Error: $52.97 SLE: 10.00 Item: Pokemon - Gallade Spirit Link (83/108) -...\u001b[0m\n",
      "\u001b[92m108: Guess: $309.54 Truth: $349.98 Error: $40.44 SLE: 0.01 Item: Ibanez GA34STCE-NT GIO Series Classical ...\u001b[0m\n",
      "\u001b[93m109: Guess: $265.19 Truth: $370.71 Error: $105.52 SLE: 0.11 Item: Set 2 Heavy Duty 12-16.5 12x16.5 12 Ply ...\u001b[0m\n",
      "\u001b[93m110: Guess: $117.45 Truth: $65.88 Error: $51.57 SLE: 0.33 Item: Hairpin Table Legs 28\" Heavy Duty Hairpi...\u001b[0m\n",
      "\u001b[92m111: Guess: $252.53 Truth: $229.99 Error: $22.54 SLE: 0.01 Item: Marada Racing Seat with Adjustable Slide...\u001b[0m\n",
      "\u001b[91m112: Guess: $124.10 Truth: $9.14 Error: $114.96 SLE: 6.31 Item: Remington Industries 24UL1007STRWHI25 24...\u001b[0m\n",
      "\u001b[91m113: Guess: $451.74 Truth: $199.00 Error: $252.74 SLE: 0.67 Item: Acer S3-391-6046 13.3-inch Ultrabook, In...\u001b[0m\n",
      "\u001b[91m114: Guess: $242.77 Truth: $109.99 Error: $132.78 SLE: 0.62 Item: ICBEAMER 7\" RGB LED Headlights Bulb Halo...\u001b[0m\n",
      "\u001b[93m115: Guess: $362.67 Truth: $570.42 Error: $207.75 SLE: 0.20 Item: R1 Concepts Front Rear Brakes and Rotors...\u001b[0m\n",
      "\u001b[92m116: Guess: $247.70 Truth: $279.99 Error: $32.29 SLE: 0.01 Item: Camplux 2.64 GPM Tankless , Outdoor Port...\u001b[0m\n",
      "\u001b[93m117: Guess: $86.58 Truth: $30.99 Error: $55.59 SLE: 1.01 Item: KNOKLOCK 10 Pack 3.75 Inch(96mm) Kitchen...\u001b[0m\n",
      "\u001b[91m118: Guess: $221.84 Truth: $31.99 Error: $189.85 SLE: 3.65 Item: Valley Enterprises Yaesu USB FTDI CT-62 ...\u001b[0m\n",
      "\u001b[91m119: Guess: $163.77 Truth: $15.90 Error: $147.87 SLE: 5.19 Item: G9 LED Light Bulbs，8W，75W 100W replaceme...\u001b[0m\n",
      "\u001b[91m120: Guess: $147.15 Truth: $45.99 Error: $101.16 SLE: 1.32 Item: ZCHAOZ 4 Lights Antique White Farmhouse ...\u001b[0m\n",
      "\u001b[93m121: Guess: $171.90 Truth: $113.52 Error: $58.38 SLE: 0.17 Item: Honeywell TH8320R1003 Honeywell VisionPr...\u001b[0m\n",
      "\u001b[93m122: Guess: $320.91 Truth: $516.99 Error: $196.08 SLE: 0.23 Item: Patriot Exhaust H8013-1 1-7/8\" Clippster...\u001b[0m\n",
      "\u001b[92m123: Guess: $230.24 Truth: $196.99 Error: $33.25 SLE: 0.02 Item: Fitrite Autopart New Front Left Driver S...\u001b[0m\n",
      "\u001b[91m124: Guess: $128.13 Truth: $46.55 Error: $81.58 SLE: 1.00 Item: Technical Precision Replacement for GE G...\u001b[0m\n",
      "\u001b[93m125: Guess: $283.86 Truth: $356.99 Error: $73.13 SLE: 0.05 Item: Covercraft Carhartt SeatSaver Front Row ...\u001b[0m\n",
      "\u001b[93m126: Guess: $223.35 Truth: $319.95 Error: $96.60 SLE: 0.13 Item: Sennheiser SD Pro 2 (506008) - Double-Si...\u001b[0m\n",
      "\u001b[93m127: Guess: $151.12 Truth: $96.06 Error: $55.06 SLE: 0.20 Item: Hitachi MAF0110 Mass Air Flow Sensor\u001b[0m\n",
      "\u001b[91m128: Guess: $279.20 Truth: $190.99 Error: $88.21 SLE: 0.14 Item: AmScope SE305R-P-LED-PS36A 10X-30X LED C...\u001b[0m\n",
      "\u001b[93m129: Guess: $205.81 Truth: $257.95 Error: $52.14 SLE: 0.05 Item: Front Left Driver Side Window Regulator ...\u001b[0m\n",
      "\u001b[91m130: Guess: $193.19 Truth: $62.95 Error: $130.24 SLE: 1.23 Item: Premium Replica Hubcap Set, Fits Nissan ...\u001b[0m\n",
      "\u001b[92m131: Guess: $56.27 Truth: $47.66 Error: $8.61 SLE: 0.03 Item: Excellerations Phonics Spelling Game for...\u001b[0m\n",
      "\u001b[92m132: Guess: $241.53 Truth: $226.99 Error: $14.54 SLE: 0.00 Item: RC4WD BigDog Dual Axle Scale Car/Truck T...\u001b[0m\n",
      "\u001b[93m133: Guess: $245.36 Truth: $359.95 Error: $114.59 SLE: 0.15 Item: Unknown Stage 2 Clutch Kit - Low Altitud...\u001b[0m\n",
      "\u001b[91m134: Guess: $275.35 Truth: $78.40 Error: $196.95 SLE: 1.56 Item: 2002-2008 Dodge Ram 1500 Mopar 4X4 Emble...\u001b[0m\n",
      "\u001b[92m135: Guess: $182.26 Truth: $172.77 Error: $9.49 SLE: 0.00 Item: Pro Comp Alloys Series 89 Wheel with Pol...\u001b[0m\n",
      "\u001b[93m136: Guess: $246.42 Truth: $316.45 Error: $70.03 SLE: 0.06 Item: Detroit Axle - Front Rear Strut & Coil S...\u001b[0m\n",
      "\u001b[91m137: Guess: $190.34 Truth: $87.99 Error: $102.35 SLE: 0.59 Item: ECCPP Rear Wheel Axle Replacement fit fo...\u001b[0m\n",
      "\u001b[92m138: Guess: $242.90 Truth: $226.63 Error: $16.27 SLE: 0.00 Item: Dell Latitude E6520 Intel i7-2720QM 2.20...\u001b[0m\n",
      "\u001b[91m139: Guess: $203.65 Truth: $31.49 Error: $172.16 SLE: 3.39 Item: F FIERCE CYCLE 251pcs Black Universal Mo...\u001b[0m\n",
      "\u001b[92m140: Guess: $202.23 Truth: $196.00 Error: $6.23 SLE: 0.00 Item: Flash Furniture 4 Pk. HERCULES Series 88...\u001b[0m\n",
      "\u001b[91m141: Guess: $232.95 Truth: $78.40 Error: $154.55 SLE: 1.17 Item: B&M 30287 Throttle Valve/Kickdown Cable,...\u001b[0m\n",
      "\u001b[92m142: Guess: $119.45 Truth: $116.25 Error: $3.20 SLE: 0.00 Item: Gates TCK226 PowerGrip Premium Timing Be...\u001b[0m\n",
      "\u001b[92m143: Guess: $128.62 Truth: $112.78 Error: $15.84 SLE: 0.02 Item: Monroe Shocks & Struts Quick-Strut 17149...\u001b[0m\n",
      "\u001b[91m144: Guess: $149.51 Truth: $27.32 Error: $122.19 SLE: 2.79 Item: Feit Electric BPMR16/GU10/930CA/6 35W EQ...\u001b[0m\n",
      "\u001b[92m145: Guess: $117.07 Truth: $145.91 Error: $28.84 SLE: 0.05 Item: Yellow Jacket 2806 Contractor Extension ...\u001b[0m\n",
      "\u001b[93m146: Guess: $240.20 Truth: $171.09 Error: $69.11 SLE: 0.11 Item: Garage-Pro Tailgate SET Compatible with ...\u001b[0m\n",
      "\u001b[93m147: Guess: $229.93 Truth: $167.95 Error: $61.98 SLE: 0.10 Item: 3M Perfect It Buffing and Polishing Kit ...\u001b[0m\n",
      "\u001b[93m148: Guess: $70.24 Truth: $28.49 Error: $41.75 SLE: 0.78 Item: Chinese Style Dollhouse Model DIY Miniat...\u001b[0m\n",
      "\u001b[93m149: Guess: $194.08 Truth: $122.23 Error: $71.85 SLE: 0.21 Item: Generic NRG Innovations SRK-161H Steerin...\u001b[0m\n",
      "\u001b[91m150: Guess: $127.91 Truth: $32.99 Error: $94.92 SLE: 1.78 Item: Learning Resources Coding Critters Range...\u001b[0m\n",
      "\u001b[91m151: Guess: $198.29 Truth: $71.20 Error: $127.09 SLE: 1.03 Item: Bosch Automotive 15463 Oxygen Sensor, OE...\u001b[0m\n",
      "\u001b[92m152: Guess: $102.22 Truth: $112.75 Error: $10.53 SLE: 0.01 Item: Case of 24-2 Inch Blue Painters Tape - 6...\u001b[0m\n",
      "\u001b[93m153: Guess: $187.33 Truth: $142.43 Error: $44.90 SLE: 0.07 Item: MOCA Engine Water Pump & Fan Clutch fit ...\u001b[0m\n",
      "\u001b[91m154: Guess: $230.65 Truth: $398.99 Error: $168.34 SLE: 0.30 Item: SAREMAS Foot Step Bars for Hyundai Palis...\u001b[0m\n",
      "\u001b[92m155: Guess: $432.30 Truth: $449.00 Error: $16.70 SLE: 0.00 Item: Gretsch G9210 Square Neck Boxcar Mahogan...\u001b[0m\n",
      "\u001b[91m156: Guess: $313.31 Truth: $189.00 Error: $124.31 SLE: 0.25 Item: NikoMaku Mirror Dash Cam Front and Rear ...\u001b[0m\n",
      "\u001b[91m157: Guess: $246.08 Truth: $120.91 Error: $125.17 SLE: 0.50 Item: Fenix HP25R v2.0 USB-C Rechargeable Head...\u001b[0m\n",
      "\u001b[92m158: Guess: $241.53 Truth: $203.53 Error: $38.00 SLE: 0.03 Item: R&L Racing Heavy Duty Roll-Up Soft Tonne...\u001b[0m\n",
      "\u001b[92m159: Guess: $322.14 Truth: $349.99 Error: $27.85 SLE: 0.01 Item: Garmin 010-02258-10 GPSMAP 64sx, Handhel...\u001b[0m\n",
      "\u001b[93m160: Guess: $87.99 Truth: $34.35 Error: $53.64 SLE: 0.85 Item: Brown 5-7/8\" X 8-1/2\" X 3/16\" Thick Heav...\u001b[0m\n",
      "\u001b[93m161: Guess: $242.75 Truth: $384.99 Error: $142.24 SLE: 0.21 Item: GAOMON PD2200 Pen Display & 20 Pen Nibs ...\u001b[0m\n",
      "\u001b[93m162: Guess: $284.49 Truth: $211.00 Error: $73.49 SLE: 0.09 Item: VXMOTOR for 97-03 Ford F150/F250 Lightdu...\u001b[0m\n",
      "\u001b[91m163: Guess: $309.55 Truth: $129.00 Error: $180.55 SLE: 0.76 Item: HP EliteBook 2540p Intel Core i7-640LM X...\u001b[0m\n",
      "\u001b[92m164: Guess: $142.35 Truth: $111.45 Error: $30.90 SLE: 0.06 Item: Green EPX Mixing Nozzles 100-Pack-fits 3...\u001b[0m\n",
      "\u001b[91m165: Guess: $180.92 Truth: $81.12 Error: $99.80 SLE: 0.63 Item: Box Partners 6 1/4 x 3 1/8\" 13 Pt. Manil...\u001b[0m\n",
      "\u001b[93m166: Guess: $343.64 Truth: $457.08 Error: $113.44 SLE: 0.08 Item: Vixen Air 1/2\" NPT Air Ride Suspension H...\u001b[0m\n",
      "\u001b[91m167: Guess: $161.05 Truth: $49.49 Error: $111.56 SLE: 1.36 Item: Smart Floor Lamp, 2700-6500K+RGBPink Mul...\u001b[0m\n",
      "\u001b[91m168: Guess: $205.76 Truth: $80.56 Error: $125.20 SLE: 0.87 Item: SOZG 324mm Wheelbase Body Shell RC Car B...\u001b[0m\n",
      "\u001b[92m169: Guess: $318.38 Truth: $278.39 Error: $39.99 SLE: 0.02 Item: Mickey Thompson ET Street S/S Racing Rad...\u001b[0m\n",
      "\u001b[91m170: Guess: $217.56 Truth: $364.50 Error: $146.94 SLE: 0.26 Item: Pirelli 275/40R20 106W XL RFT P0 PZ4-LUX...\u001b[0m\n",
      "\u001b[93m171: Guess: $295.88 Truth: $378.99 Error: $83.11 SLE: 0.06 Item: Torklift C3212 Rear Tie Down\u001b[0m\n",
      "\u001b[92m172: Guess: $170.66 Truth: $165.28 Error: $5.38 SLE: 0.00 Item: Cardone 78-4226 Remanufactured Ford Comp...\u001b[0m\n",
      "\u001b[91m173: Guess: $178.03 Truth: $56.74 Error: $121.29 SLE: 1.28 Item: Kidde AccessPoint 001798 Supra TouchPoin...\u001b[0m\n",
      "\u001b[92m174: Guess: $272.06 Truth: $307.95 Error: $35.89 SLE: 0.02 Item: 3M Protecta 3100414 Self Retracting Life...\u001b[0m\n",
      "\u001b[91m175: Guess: $181.12 Truth: $38.00 Error: $143.12 SLE: 2.38 Item: Plantronics 89435-01 Wired Headset, Blac...\u001b[0m\n",
      "\u001b[91m176: Guess: $137.09 Truth: $53.00 Error: $84.09 SLE: 0.88 Item: Logitech K750 Wireless Solar Keyboard fo...\u001b[0m\n",
      "\u001b[93m177: Guess: $356.92 Truth: $498.00 Error: $141.08 SLE: 0.11 Item: Olympus PEN E-PL9 Body Only with 3-Inch ...\u001b[0m\n",
      "\u001b[91m178: Guess: $187.52 Truth: $53.99 Error: $133.53 SLE: 1.52 Item: Beck/Arnley 051-6066 Hub & Bearing Assem...\u001b[0m\n",
      "\u001b[93m179: Guess: $265.83 Truth: $350.00 Error: $84.17 SLE: 0.08 Item: Eibach Pro-Kit Performance Springs E10-6...\u001b[0m\n",
      "\u001b[93m180: Guess: $189.75 Truth: $299.95 Error: $110.20 SLE: 0.21 Item: LEGO DC Batman 1989 Batwing 76161 Displa...\u001b[0m\n",
      "\u001b[93m181: Guess: $154.51 Truth: $94.93 Error: $59.58 SLE: 0.23 Item: Kingston Brass KS3608PL Restoration 4-In...\u001b[0m\n",
      "\u001b[92m182: Guess: $340.72 Truth: $379.00 Error: $38.28 SLE: 0.01 Item: Polk Vanishing Series 265-LS In-Wall 3-W...\u001b[0m\n",
      "\u001b[92m183: Guess: $260.93 Truth: $299.95 Error: $39.02 SLE: 0.02 Item: Spec-D Tuning LED Projector Headlights G...\u001b[0m\n",
      "\u001b[92m184: Guess: $23.47 Truth: $24.99 Error: $1.52 SLE: 0.00 Item: RICHMOND & FINCH Airpod Pro Case, Green ...\u001b[0m\n",
      "\u001b[91m185: Guess: $168.79 Truth: $41.04 Error: $127.75 SLE: 1.95 Item: LFA Industries 43B-5A-33JT 1/16-1/2-1.5-...\u001b[0m\n",
      "\u001b[91m186: Guess: $178.84 Truth: $327.90 Error: $149.06 SLE: 0.36 Item: SAUTVS LED Headlight Assembly for Slings...\u001b[0m\n",
      "\u001b[93m187: Guess: $84.38 Truth: $10.99 Error: $73.39 SLE: 3.85 Item: 2 Pack Combo Womens Safety Glasses Impac...\u001b[0m\n",
      "\u001b[91m188: Guess: $176.17 Truth: $14.99 Error: $161.18 SLE: 5.78 Item: Arepa - Venezuelan cuisine - Venezuela P...\u001b[0m\n",
      "\u001b[93m189: Guess: $153.01 Truth: $84.95 Error: $68.06 SLE: 0.34 Item: Schlage Lock Company KS23D2300 Padlock, ...\u001b[0m\n",
      "\u001b[93m190: Guess: $161.62 Truth: $111.00 Error: $50.62 SLE: 0.14 Item: Techni Mobili White Sit to Stand Mobile ...\u001b[0m\n",
      "\u001b[92m191: Guess: $123.82 Truth: $123.73 Error: $0.09 SLE: 0.00 Item: Special Lite Products Contemporary Wall ...\u001b[0m\n",
      "\u001b[91m192: Guess: $263.09 Truth: $557.38 Error: $294.29 SLE: 0.56 Item: Tascam DP-24SD 24-Track Digital Portastu...\u001b[0m\n",
      "\u001b[91m193: Guess: $230.51 Truth: $95.55 Error: $134.96 SLE: 0.76 Item: Glow Lighting 636CC10SP Vista Crystal Fl...\u001b[0m\n",
      "\u001b[93m194: Guess: $197.09 Truth: $154.00 Error: $43.09 SLE: 0.06 Item: Z3 Wind Deflector, Smoke Tint, Lexan, Wi...\u001b[0m\n",
      "\u001b[91m195: Guess: $283.31 Truth: $198.99 Error: $84.32 SLE: 0.12 Item: Olympus E-20 5MP Digital Camera w/ 4x Op...\u001b[0m\n",
      "\u001b[91m196: Guess: $232.72 Truth: $430.44 Error: $197.72 SLE: 0.38 Item: PHYNEDI 1:1000 World Trade Center (1973-...\u001b[0m\n",
      "\u001b[92m197: Guess: $69.51 Truth: $45.67 Error: $23.84 SLE: 0.17 Item: YANGHUAN Unstable Unicorns Adventure Car...\u001b[0m\n",
      "\u001b[92m198: Guess: $202.40 Truth: $249.00 Error: $46.60 SLE: 0.04 Item: Interlogix NX-1820E NetworX Touch Screen...\u001b[0m\n",
      "\u001b[91m199: Guess: $188.27 Truth: $42.99 Error: $145.28 SLE: 2.13 Item: Steering Damper,Universal Motorcycle Han...\u001b[0m\n",
      "\u001b[93m200: Guess: $229.98 Truth: $181.33 Error: $48.65 SLE: 0.06 Item: Amprobe TIC 410A Hot Stick Attachment\u001b[0m\n",
      "\u001b[91m201: Guess: $129.27 Truth: $6.03 Error: $123.24 SLE: 8.52 Item: MyCableMart 3.5mm Plug/Jack, 4 Conductor...\u001b[0m\n",
      "\u001b[92m202: Guess: $66.84 Truth: $29.99 Error: $36.85 SLE: 0.61 Item: OtterBox + Pop Symmetry Series Case for ...\u001b[0m\n",
      "\u001b[91m203: Guess: $475.84 Truth: $899.00 Error: $423.16 SLE: 0.40 Item: Dell XPS X8700-1572BLK Desktop ( Intel C...\u001b[0m\n",
      "\u001b[93m204: Guess: $244.67 Truth: $399.99 Error: $155.32 SLE: 0.24 Item: Franklin Iron Works Sperry Industrial Br...\u001b[0m\n",
      "\u001b[91m205: Guess: $117.68 Truth: $4.66 Error: $113.02 SLE: 9.26 Item: Avery Legal Dividers, Standard Collated ...\u001b[0m\n",
      "\u001b[92m206: Guess: $233.33 Truth: $261.41 Error: $28.08 SLE: 0.01 Item: Moen 8346 Commercial Posi-Temp Pressure ...\u001b[0m\n",
      "\u001b[91m207: Guess: $237.41 Truth: $136.97 Error: $100.44 SLE: 0.30 Item: Carlisle Versa Trail ATR All Terrain Rad...\u001b[0m\n",
      "\u001b[93m208: Guess: $158.58 Truth: $79.00 Error: $79.58 SLE: 0.48 Item: SUNWAYFOTO 44mm Tripod Ball Head Arca Co...\u001b[0m\n",
      "\u001b[91m209: Guess: $266.64 Truth: $444.99 Error: $178.35 SLE: 0.26 Item: NanoBeam AC NBE-5AC-Gen2-US 4 Units 5GHz...\u001b[0m\n",
      "\u001b[93m210: Guess: $267.25 Truth: $411.94 Error: $144.69 SLE: 0.19 Item: WULF 4\" Front 2\" Rear Leveling Lift Kit ...\u001b[0m\n",
      "\u001b[92m211: Guess: $183.99 Truth: $148.40 Error: $35.59 SLE: 0.05 Item: Alera ALEVABFMC Valencia Series Mobile B...\u001b[0m\n",
      "\u001b[91m212: Guess: $92.06 Truth: $244.99 Error: $152.93 SLE: 0.94 Item: YU-GI-OH! Ignition Assault Booster Box\u001b[0m\n",
      "\u001b[93m213: Guess: $160.28 Truth: $86.50 Error: $73.78 SLE: 0.37 Item: 48\" x 36\" Extra-Large Framed Magnetic Bl...\u001b[0m\n",
      "\u001b[92m214: Guess: $347.18 Truth: $297.95 Error: $49.23 SLE: 0.02 Item: Dell Latitude D620 Renewed Notebook PC\u001b[0m\n",
      "\u001b[91m215: Guess: $609.55 Truth: $399.99 Error: $209.56 SLE: 0.18 Item: acer Aspire 5 Laptop, AMD Ryzen 3 5300U ...\u001b[0m\n",
      "\u001b[91m216: Guess: $253.60 Truth: $599.00 Error: $345.40 SLE: 0.73 Item: Elk 31080/6RC-GRN 30 by 6-Inch Viva 6-Li...\u001b[0m\n",
      "\u001b[91m217: Guess: $256.05 Truth: $105.99 Error: $150.06 SLE: 0.77 Item: Barbie Top Model Doll\u001b[0m\n",
      "\u001b[91m218: Guess: $339.29 Truth: $689.00 Error: $349.71 SLE: 0.50 Item: Danby Designer 20-In. Electric Range wit...\u001b[0m\n",
      "\u001b[93m219: Guess: $298.40 Truth: $404.99 Error: $106.59 SLE: 0.09 Item: FixtureDisplays® Metal Truss Podium Doub...\u001b[0m\n",
      "\u001b[92m220: Guess: $247.74 Truth: $207.76 Error: $39.98 SLE: 0.03 Item: ACDelco 13597235 GM Original Equipment A...\u001b[0m\n",
      "\u001b[92m221: Guess: $192.55 Truth: $171.82 Error: $20.73 SLE: 0.01 Item: EBC S1KF1135 Stage-1 Premium Street Brak...\u001b[0m\n",
      "\u001b[92m222: Guess: $315.71 Truth: $293.24 Error: $22.47 SLE: 0.01 Item: FXR Men's Boost FX Jacket (Black/Orange/...\u001b[0m\n",
      "\u001b[92m223: Guess: $328.66 Truth: $374.95 Error: $46.29 SLE: 0.02 Item: SuperATV Scratch Resistant 3-in-1 Flip W...\u001b[0m\n",
      "\u001b[93m224: Guess: $176.14 Truth: $111.99 Error: $64.15 SLE: 0.20 Item: SBU 3 Layer All Weather Mini Van Car Cov...\u001b[0m\n",
      "\u001b[93m225: Guess: $120.42 Truth: $42.99 Error: $77.43 SLE: 1.03 Item: 2 Pack Outdoor Brochure Holder Advertisi...\u001b[0m\n",
      "\u001b[92m226: Guess: $126.11 Truth: $116.71 Error: $9.40 SLE: 0.01 Item: Monroe Shocks & Struts Quick-Strut 17158...\u001b[0m\n",
      "\u001b[91m227: Guess: $231.64 Truth: $118.61 Error: $113.03 SLE: 0.44 Item: Elements of Design Magellan EB235AL Thre...\u001b[0m\n",
      "\u001b[93m228: Guess: $206.73 Truth: $147.12 Error: $59.61 SLE: 0.11 Item: GM Genuine Parts 15-62961 Air Conditioni...\u001b[0m\n",
      "\u001b[91m229: Guess: $205.92 Truth: $119.99 Error: $85.93 SLE: 0.29 Item: Baseus 17-in-1 USB C Docking Station to ...\u001b[0m\n",
      "\u001b[91m230: Guess: $191.61 Truth: $369.98 Error: $178.37 SLE: 0.43 Item: Whitehall™ Personalized Whitehall Capito...\u001b[0m\n",
      "\u001b[92m231: Guess: $318.76 Truth: $315.55 Error: $3.21 SLE: 0.00 Item: Pro Circuit Works Pipe PY05250 for 02-19...\u001b[0m\n",
      "\u001b[91m232: Guess: $300.04 Truth: $190.99 Error: $109.05 SLE: 0.20 Item: HYANKA 15 \"1200W Professional DJ Speaker...\u001b[0m\n",
      "\u001b[93m233: Guess: $223.57 Truth: $155.00 Error: $68.57 SLE: 0.13 Item: Bluetooth X6BT Card Reader Writer Encode...\u001b[0m\n",
      "\u001b[92m234: Guess: $350.14 Truth: $349.99 Error: $0.15 SLE: 0.00 Item: AIRAID Cold Air Intake System by K&N: In...\u001b[0m\n",
      "\u001b[93m235: Guess: $335.16 Truth: $249.99 Error: $85.17 SLE: 0.09 Item: Bostingner Shower Faucets Sets Complete,...\u001b[0m\n",
      "\u001b[91m236: Guess: $219.97 Truth: $42.99 Error: $176.98 SLE: 2.61 Item: PIT66 Front Bumper Turn Signal Lights, C...\u001b[0m\n",
      "\u001b[92m237: Guess: $20.16 Truth: $17.99 Error: $2.17 SLE: 0.01 Item: Caseology Bumpy Compatible with Google P...\u001b[0m\n",
      "\u001b[93m238: Guess: $256.65 Truth: $425.00 Error: $168.35 SLE: 0.25 Item: Fleck 2510 Timer Mechanical Filter Contr...\u001b[0m\n",
      "\u001b[93m239: Guess: $316.76 Truth: $249.99 Error: $66.77 SLE: 0.06 Item: Haloview MC7108 Wireless RV Backup Camer...\u001b[0m\n",
      "\u001b[92m240: Guess: $151.29 Truth: $138.23 Error: $13.06 SLE: 0.01 Item: Schmidt Spiele - Manhattan\u001b[0m\n",
      "\u001b[91m241: Guess: $215.38 Truth: $414.99 Error: $199.61 SLE: 0.43 Item: Corsa 14333 Tip Kit (Ford Mustang GT)\u001b[0m\n",
      "\u001b[93m242: Guess: $218.23 Truth: $168.28 Error: $49.95 SLE: 0.07 Item: Hoshizaki FM116A Fan Motor Kit 1\u001b[0m\n",
      "\u001b[92m243: Guess: $211.17 Truth: $199.99 Error: $11.18 SLE: 0.00 Item: BAINUO Antler Chandelier Lighting,6 Ligh...\u001b[0m\n",
      "\u001b[93m244: Guess: $203.54 Truth: $126.70 Error: $76.84 SLE: 0.22 Item: DNA MOTORING HL-OH-FEXP06-SM-AM Smoke Le...\u001b[0m\n",
      "\u001b[91m245: Guess: $190.61 Truth: $5.91 Error: $184.70 SLE: 11.04 Item: Wera Stainless 3840/1 TS 2.5mm Hex Inser...\u001b[0m\n",
      "\u001b[93m246: Guess: $246.34 Truth: $193.06 Error: $53.28 SLE: 0.06 Item: Celestron - PowerSeeker 127EQ Telescope ...\u001b[0m\n",
      "\u001b[92m247: Guess: $255.22 Truth: $249.99 Error: $5.23 SLE: 0.00 Item: NHOPEEW 10.1inch Android Car Radio Carpl...\u001b[0m\n",
      "\u001b[91m248: Guess: $222.52 Truth: $64.12 Error: $158.40 SLE: 1.52 Item: Other Harmonica (Suzuki-2Timer24- A)\u001b[0m\n",
      "\u001b[91m249: Guess: $232.94 Truth: $114.99 Error: $117.95 SLE: 0.49 Item: Harley Air Filter Venturi Intake Air Cle...\u001b[0m\n",
      "\u001b[91m250: Guess: $293.70 Truth: $926.00 Error: $632.30 SLE: 1.31 Item: Elite Screens Edge Free Ambient Light Re...\u001b[0m\n"
     ]
    },
    {
     "data": {
      "image/png": "[encoded data removed]",
      "text/plain": [
       "<Figure size 1200x800 with 1 Axes>"
      ]
     },
     "metadata": {},
     "output_type": "display_data"
    }
   ],
   "source": [
    "Tester.test(rf, test)"
   ]
  },
  {
   "cell_type": "code",
   "execution_count": 19,
   "id": "9f759bd2-7a7e-4c1a-80a0-e12470feca89",
   "metadata": {},
   "outputs": [],
   "source": [
    "product = \"Quadcast HyperX condenser mic for high quality audio for podcasting\""
   ]
  },
  {
   "cell_type": "code",
   "execution_count": 20,
   "id": "e44dbd25-fb95-4b6b-bbbb-8da5fc817105",
   "metadata": {},
   "outputs": [
    {
     "name": "stdout",
     "output_type": "stream",
     "text": [
      "189.0\n",
      "139.99\n",
      "285.35880000000014\n"
     ]
    }
   ],
   "source": [
    "print(specialist.price(product))\n",
    "print(frontier.price(product))\n",
    "print(random_forest.price(product))"
   ]
  },
  {
   "cell_type": "code",
   "execution_count": 21,
   "id": "1779b353-e2bb-4fc7-be7c-93057e4d688a",
   "metadata": {},
   "outputs": [
    {
     "name": "stderr",
     "output_type": "stream",
     "text": [
      "100%|██████████| 250/250 [11:32<00:00,  2.77s/it]\n"
     ]
    }
   ],
   "source": [
    "specialists = []\n",
    "frontiers = []\n",
    "random_forests = []\n",
    "prices = []\n",
    "for item in tqdm(test[1000:1250]):\n",
    "    text = description(item)\n",
    "    specialists.append(specialist.price(text))\n",
    "    frontiers.append(frontier.price(text))\n",
    "    random_forests.append(random_forest.price(text))\n",
    "    prices.append(item.price)"
   ]
  },
  {
   "cell_type": "code",
   "execution_count": 22,
   "id": "f0bca725-4e34-405b-8d90-41d67086a25d",
   "metadata": {},
   "outputs": [],
   "source": [
    "mins = [min(s,f,r) for s,f,r in zip(specialists, frontiers, random_forests)]\n",
    "maxes = [max(s,f,r) for s,f,r in zip(specialists, frontiers, random_forests)]\n",
    "\n",
    "X = pd.DataFrame({\n",
    "    'Specialist': specialists,\n",
    "    'Frontier': frontiers,\n",
    "    'RandomForest': random_forests,\n",
    "    'Min': mins,\n",
    "    'Max': maxes,\n",
    "})\n",
    "\n",
    "# Convert y to a Series\n",
    "y = pd.Series(prices)"
   ]
  },
  {
   "cell_type": "code",
   "execution_count": 23,
   "id": "1be5be8a-3e7f-42a2-be54-0c7e380f7cc4",
   "metadata": {},
   "outputs": [
    {
     "name": "stdout",
     "output_type": "stream",
     "text": [
      "Specialist: 0.49\n",
      "Frontier: 0.31\n",
      "RandomForest: -0.28\n",
      "Min: 0.24\n",
      "Max: 0.20\n",
      "Intercept=29.25\n"
     ]
    }
   ],
   "source": [
    "# Train a Linear Regression\n",
    "np.random.seed(42)\n",
    "\n",
    "lr = LinearRegression()\n",
    "lr.fit(X, y)\n",
    "\n",
    "feature_columns = X.columns.tolist()\n",
    "\n",
    "for feature, coef in zip(feature_columns, lr.coef_):\n",
    "    print(f\"{feature}: {coef:.2f}\")\n",
    "print(f\"Intercept={lr.intercept_:.2f}\")"
   ]
  },
  {
   "cell_type": "code",
   "execution_count": 24,
   "id": "0bdf6e68-28a3-4ed2-b17e-de0ede923d34",
   "metadata": {},
   "outputs": [
    {
     "data": {
      "text/plain": [
       "['ensemble_model.pkl']"
      ]
     },
     "execution_count": 24,
     "metadata": {},
     "output_type": "execute_result"
    }
   ],
   "source": [
    "joblib.dump(lr, 'ensemble_model.pkl')"
   ]
  },
  {
   "cell_type": "code",
   "execution_count": null,
   "id": "e762441a-9470-4dd7-8a8f-ec0430e908c7",
   "metadata": {},
   "outputs": [
    {
     "name": "stderr",
     "output_type": "stream",
     "text": [
      "/Users/shengy/Library/Caches/pypoetry/virtualenvs/llm-engineering-z2emvRX6-py3.11/lib/python3.11/site-packages/sklearn/base.py:380: InconsistentVersionWarning: Trying to unpickle estimator DecisionTreeRegressor from version 1.5.2 when using version 1.6.1. This might lead to breaking code or invalid results. Use at your own risk. For more info please refer to:\n",
      "https://scikit-learn.org/stable/model_persistence.html#security-maintainability-limitations\n",
      "  warnings.warn(\n",
      "/Users/shengy/Library/Caches/pypoetry/virtualenvs/llm-engineering-z2emvRX6-py3.11/lib/python3.11/site-packages/sklearn/base.py:380: InconsistentVersionWarning: Trying to unpickle estimator RandomForestRegressor from version 1.5.2 when using version 1.6.1. This might lead to breaking code or invalid results. Use at your own risk. For more info please refer to:\n",
      "https://scikit-learn.org/stable/model_persistence.html#security-maintainability-limitations\n",
      "  warnings.warn(\n"
     ]
    },
    {
     "ename": "",
     "evalue": "",
     "output_type": "error",
     "traceback": [
      "\u001b[1;31mThe Kernel crashed while executing code in the current cell or a previous cell. \n",
      "\u001b[1;31mPlease review the code in the cell(s) to identify a possible cause of the failure. \n",
      "\u001b[1;31mClick <a href='https://aka.ms/vscodeJupyterKernelCrash'>here</a> for more info. \n",
      "\u001b[1;31mView Jupyter <a href='command:jupyter.viewOutput'>log</a> for further details."
     ]
    }
   ],
   "source": [
    "from agents.ensemble_agent import EnsembleAgent\n",
    "ensemble = EnsembleAgent(collection)"
   ]
  },
  {
   "cell_type": "code",
   "execution_count": null,
   "id": "1a29f03c-8010-43b7-ae7d-1bc85ca6e8e2",
   "metadata": {},
   "outputs": [],
   "source": [
    "ensemble.price(product)"
   ]
  },
  {
   "cell_type": "code",
   "execution_count": null,
   "id": "e6a5e226-a508-43d5-aa42-cefbde72ffdf",
   "metadata": {},
   "outputs": [],
   "source": [
    "def ensemble_pricer(item):\n",
    "    return ensemble.price(description(item))"
   ]
  },
  {
   "cell_type": "code",
   "execution_count": null,
   "id": "8397b1ef-2ea3-4af8-bb34-36594e0600cc",
   "metadata": {},
   "outputs": [],
   "source": [
    "Tester.test(ensemble_pricer, test)"
   ]
  },
  {
   "cell_type": "markdown",
   "id": "347c5350-d4b5-42ae-96f6-ec94f6ab41d7",
   "metadata": {},
   "source": [
    "# WHAT A DAY!\n",
    "\n",
    "We got so much done - a Fronter RAG pipeline, a Random Forest model using transformer-based encodings, and an Ensemble model.\n",
    "\n",
    "You can do better, for sure!\n",
    "\n",
    "Tweak this, and try adding components into the ensemble, to beat my performance."
   ]
  },
  {
   "cell_type": "code",
   "execution_count": null,
   "id": "85009065-851e-44a2-b39f-4c116f7fbd22",
   "metadata": {},
   "outputs": [],
   "source": []
  }
 ],
 "metadata": {
  "kernelspec": {
   "display_name": "llm-engineering-z2emvRX6-py3.11",
   "language": "python",
   "name": "python3"
  },
  "language_info": {
   "codemirror_mode": {
    "name": "ipython",
    "version": 3
   },
   "file_extension": ".py",
   "mimetype": "text/x-python",
   "name": "python",
   "nbconvert_exporter": "python",
   "pygments_lexer": "ipython3",
   "version": "3.11.6"
  }
 },
 "nbformat": 4,
 "nbformat_minor": 5
}

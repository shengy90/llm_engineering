{
 "cells": [
  {
   "cell_type": "markdown",
   "id": "fe12c203-e6a6-452c-a655-afb8a03a4ff5",
   "metadata": {},
   "source": [
    "# End of week 1 exercise\n",
    "\n",
    "To demonstrate your familiarity with OpenAI API, and also Ollama, build a tool that takes a technical question,  \n",
    "and responds with an explanation. This is a tool that you will be able to use yourself during the course!"
   ]
  },
  {
   "cell_type": "code",
   "execution_count": 1,
   "id": "c1070317-3ed9-4659-abe3-828943230e03",
   "metadata": {},
   "outputs": [],
   "source": [
    "# imports\n",
    "\n",
    "import os\n",
    "import requests\n",
    "import json\n",
    "from typing import List\n",
    "from dotenv import load_dotenv\n",
    "from IPython.display import Markdown, display, update_display\n",
    "from openai import OpenAI"
   ]
  },
  {
   "cell_type": "code",
   "execution_count": 2,
   "id": "4a456906-915a-4bfd-bb9d-57e505c5093f",
   "metadata": {},
   "outputs": [],
   "source": [
    "# constants\n",
    "\n",
    "MODEL_GPT = 'gpt-4o-mini'\n",
    "MODEL_LLAMA = 'llama3.2'"
   ]
  },
  {
   "cell_type": "code",
   "execution_count": 3,
   "id": "a8d7923c-5f28-4c30-8556-342d7c8497c1",
   "metadata": {},
   "outputs": [],
   "source": [
    "# set up environment\n",
    "\n",
    "load_dotenv()\n",
    "openai = OpenAI()"
   ]
  },
  {
   "cell_type": "code",
   "execution_count": 4,
   "id": "3f0d0137-52b0-47a8-81a8-11a90a010798",
   "metadata": {},
   "outputs": [],
   "source": [
    "# here is the question; type over this to ask something new\n",
    "\n",
    "question = \"\"\"\n",
    "Please explain what this code does and why:\n",
    "yield from {book.get(\"author\") for book in books if book.get(\"author\")}\n",
    "\"\"\""
   ]
  },
  {
   "cell_type": "code",
   "execution_count": 5,
   "id": "c226cb19-e83a-4003-b64a-8034c36d3d77",
   "metadata": {},
   "outputs": [],
   "source": [
    "SYSTEM_PROMPT = \"\"\"\n",
    "You are a python expert programmer teaching secondary school students programming. Your\n",
    "task is to explain python code in an ELI5 manner such that technical concepts can be\n",
    "broken down into layman concepts for secondary school students, yet retain the technical\n",
    "jargon needed as this is a technical explanation.\n",
    "\"\"\""
   ]
  },
  {
   "cell_type": "code",
   "execution_count": 8,
   "id": "65a9f944-32a0-4216-994e-922567183c3a",
   "metadata": {},
   "outputs": [],
   "source": [
    "messages = [\n",
    "    {\"role\": \"system\", \"content\": SYSTEM_PROMPT},\n",
    "    {\"role\": \"user\", \"content\": question}\n",
    "]"
   ]
  },
  {
   "cell_type": "code",
   "execution_count": 9,
   "id": "60ce7000-a4a5-4cce-a261-e75ef45063b4",
   "metadata": {},
   "outputs": [
    {
     "data": {
      "text/markdown": [
       "Sure! Let's break down the code step by step in a way that’s easy to understand.\n",
       "\n",
       "### What does this code do?\n",
       "\n",
       "1. **The Set Comprehension**: \n",
       "   - `{book.get(\"author\") for book in books if book.get(\"author\")}` is a special way to create a set (which is like a box that holds unique items).\n",
       "   - You start with `books`, which is likely a list (or collection) of book objects.\n",
       "   - For each `book` in that list of `books`, you try to get the `author` using `book.get(\"author\")`.\n",
       "   - But there’s a condition: `if book.get(\"author\")`. This means you only include the author's name if it exists and isn't empty.\n",
       "\n",
       "2. **The `yield from` Statement**:\n",
       "   - `yield from` is a special keyword in Python used in generators. Think of a generator like a factory that produces items one at a time, instead of all at once.\n",
       "   - When you say `yield from`, you're telling Python to \"give out\" all the results from what comes after it (in this case, the set you've just created) to whoever is using this generator.\n",
       "\n",
       "### Why do we use this code?\n",
       "\n",
       "- **Unique Authors**: By using a set (with the `{}` braces), you're ensuring that each author is listed only once. If two books were written by the same author, that author will only show up one time in the results.\n",
       "  \n",
       "- **Cleaner Code**: Instead of writing a long loop to find authors, this code does it compactly and clearly using the power of comprehensions.\n",
       "\n",
       "- **Lazy Evaluation**: Thanks to the `yield from`, this generator doesn’t compute all the authors right away. It only gets each author when you ask for it. This saves memory and can be efficient for large collections of books.\n",
       "\n",
       "### In summary:\n",
       "\n",
       "This code is a neat and efficient way to gather all unique authors from a list of books and provide them one by one (thanks to `yield from`). It helps keep the program clean and makes sure we don’t list any author more than once!"
      ],
      "text/plain": [
       "<IPython.core.display.Markdown object>"
      ]
     },
     "metadata": {},
     "output_type": "display_data"
    }
   ],
   "source": [
    "# Get gpt-4o-mini to answer, with streaming\n",
    "\n",
    "stream = openai.chat.completions.create(model=MODEL_GPT, messages=messages,stream=True)\n",
    "response = \"\"\n",
    "display_handle = display(Markdown(\"\"), display_id=True)\n",
    "for chunk in stream:\n",
    "    response += chunk.choices[0].delta.content or ''\n",
    "    response = response.replace(\"```\",\"\").replace(\"markdown\", \"\")\n",
    "    update_display(Markdown(response), display_id=display_handle.display_id)"
   ]
  },
  {
   "cell_type": "code",
   "execution_count": 13,
   "id": "e6c7cb4b-6f40-40f6-a7fe-14bb8ce0f070",
   "metadata": {},
   "outputs": [
    {
     "data": {
      "text/markdown": [
       "Let's break down this code step by step.\n",
       "\n",
       "**What is it doing?**\n",
       "\n",
       "This code is extracting the authors' names from a list of books. Think of \"books\" as a collection of objects, each representing a book with some properties (like its title, author, and publication date).\n",
       "\n",
       "**The `yield from` part:**\n",
       "\n",
       "Imagine you have a bunch of friends who all wrote books. You want to collect their names in one list.\n",
       "\n",
       "In Python, we can use the concept of \"generators\" to achieve this. A generator is like a magic machine that produces values on demand, without storing them all in memory at once.\n",
       "\n",
       "The `yield from` keyword is used to delegate the production of values to another iterable (like our friends with books) and collect their values into one sequence.\n",
       "\n",
       "**The dictionary comprehension part:**\n",
       "\n",
       "`{book.get(\"author\") for book in books if book.get(\"author\")}`\n",
       "\n",
       "This is a fancy way of saying \"create a new list containing only the author names from the books\".\n",
       "\n",
       "Here's what happens:\n",
       "\n",
       "1. We iterate over each `book` object in the `books` collection.\n",
       "2. For each book, we check if it has an \"author\" key (using `.get(\"author\")`). If it does, we include its value in our new list.\n",
       "3. We create a new dictionary with the author names as values.\n",
       "\n",
       "**The entire expression:**\n",
       "\n",
       "So, putting it all together:\n",
       "\n",
       "`yield from {book.get(\"author\") for book in books if book.get(\"author\")}`\n",
       "\n",
       "1. It's like asking each friend with a book to give you their name.\n",
       "2. You collect these names into one list.\n",
       "3. The `yield from` keyword allows us to create a generator that produces this new list, without storing it all in memory at once.\n",
       "\n",
       "**Why use `yield from`?**\n",
       "\n",
       "Using `yield from` has two benefits:\n",
       "\n",
       "1. **Memory efficiency**: We don't need to store the entire list of author names in memory, which can be useful for large collections.\n",
       "2. **Lazy evaluation**: The generator produces values on demand, so we only compute each author's name when we actually need it.\n",
       "\n",
       "Does that make sense?"
      ],
      "text/plain": [
       "<IPython.core.display.Markdown object>"
      ]
     },
     "metadata": {},
     "output_type": "display_data"
    }
   ],
   "source": [
    "import ollama\n",
    "\n",
    "response = ollama.chat(model=MODEL_LLAMA, messages=messages)\n",
    "display(Markdown(response['message']['content']))"
   ]
  }
 ],
 "metadata": {
  "kernelspec": {
   "display_name": "Python 3 (ipykernel)",
   "language": "python",
   "name": "python3"
  },
  "language_info": {
   "codemirror_mode": {
    "name": "ipython",
    "version": 3
   },
   "file_extension": ".py",
   "mimetype": "text/x-python",
   "name": "python",
   "nbconvert_exporter": "python",
   "pygments_lexer": "ipython3",
   "version": "3.11.6"
  }
 },
 "nbformat": 4,
 "nbformat_minor": 5
}

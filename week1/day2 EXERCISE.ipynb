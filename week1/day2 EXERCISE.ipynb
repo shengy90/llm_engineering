{
 "cells": [
  {
   "cell_type": "markdown",
   "id": "d15d8294-3328-4e07-ad16-8a03e9bbfdb9",
   "metadata": {},
   "source": [
    "# Welcome to your first assignment!\n",
    "\n",
    "Instructions are below. Please give this a try, and look in the solutions folder if you get stuck (or feel free to ask me!)"
   ]
  },
  {
   "cell_type": "markdown",
   "id": "ada885d9-4d42-4d9b-97f0-74fbbbfe93a9",
   "metadata": {},
   "source": [
    "<table style=\"margin: 0; text-align: left;\">\n",
    "    <tr>\n",
    "        <td style=\"width: 150px; height: 150px; vertical-align: middle;\">\n",
    "            <img src=\"../resources.jpg\" width=\"150\" height=\"150\" style=\"display: block;\" />\n",
    "        </td>\n",
    "        <td>\n",
    "            <h2 style=\"color:#f71;\">Just before we get to the assignment --</h2>\n",
    "            <span style=\"color:#f71;\">I thought I'd take a second to point you at this page of useful resources for the course. This includes links to all the slides.<br/>\n",
    "            <a href=\"https://edwarddonner.com/2024/11/13/llm-engineering-resources/\">https://edwarddonner.com/2024/11/13/llm-engineering-resources/</a><br/>\n",
    "            Please keep this bookmarked, and I'll continue to add more useful links there over time.\n",
    "            </span>\n",
    "        </td>\n",
    "    </tr>\n",
    "</table>"
   ]
  },
  {
   "cell_type": "markdown",
   "id": "6e9fa1fc-eac5-4d1d-9be4-541b3f2b3458",
   "metadata": {},
   "source": [
    "# HOMEWORK EXERCISE ASSIGNMENT\n",
    "\n",
    "Upgrade the day 1 project to summarize a webpage to use an Open Source model running locally via Ollama rather than OpenAI\n",
    "\n",
    "You'll be able to use this technique for all subsequent projects if you'd prefer not to use paid APIs.\n",
    "\n",
    "**Benefits:**\n",
    "1. No API charges - open-source\n",
    "2. Data doesn't leave your box\n",
    "\n",
    "**Disadvantages:**\n",
    "1. Significantly less power than Frontier Model\n",
    "\n",
    "## Recap on installation of Ollama\n",
    "\n",
    "Simply visit [ollama.com](https://ollama.com) and install!\n",
    "\n",
    "Once complete, the ollama server should already be running locally.  \n",
    "If you visit:  \n",
    "[http://localhost:11434/](http://localhost:11434/)\n",
    "\n",
    "You should see the message `Ollama is running`.  \n",
    "\n",
    "If not, bring up a new Terminal (Mac) or Powershell (Windows) and enter `ollama serve`  \n",
    "And in another Terminal (Mac) or Powershell (Windows), enter `ollama pull llama3.2`  \n",
    "Then try [http://localhost:11434/](http://localhost:11434/) again.\n",
    "\n",
    "If Ollama is slow on your machine, try using `llama3.2:1b` as an alternative. Run `ollama pull llama3.2:1b` from a Terminal or Powershell, and change the code below from `MODEL = \"llama3.2\"` to `MODEL = \"llama3.2:1b\"`"
   ]
  },
  {
   "cell_type": "code",
   "execution_count": 1,
   "id": "4e2a9393-7767-488e-a8bf-27c12dca35bd",
   "metadata": {},
   "outputs": [],
   "source": [
    "# imports\n",
    "\n",
    "import requests\n",
    "from bs4 import BeautifulSoup\n",
    "from IPython.display import Markdown, display"
   ]
  },
  {
   "cell_type": "code",
   "execution_count": 2,
   "id": "29ddd15d-a3c5-4f4e-a678-873f56162724",
   "metadata": {},
   "outputs": [],
   "source": [
    "# Constants\n",
    "\n",
    "OLLAMA_API = \"http://localhost:11434/api/chat\"\n",
    "HEADERS = {\"Content-Type\": \"application/json\"}\n",
    "MODEL = \"llama3.2\""
   ]
  },
  {
   "cell_type": "code",
   "execution_count": 3,
   "id": "dac0a679-599c-441f-9bf2-ddc73d35b940",
   "metadata": {},
   "outputs": [],
   "source": [
    "# Create a messages list using the same format that we used for OpenAI\n",
    "\n",
    "messages = [\n",
    "    {\"role\": \"user\", \"content\": \"Describe some of the business applications of Generative AI\"}\n",
    "]"
   ]
  },
  {
   "cell_type": "code",
   "execution_count": 5,
   "id": "479ff514-e8bd-4985-a572-2ea28bb4fa40",
   "metadata": {},
   "outputs": [
    {
     "name": "stdout",
     "output_type": "stream",
     "text": [
      "\u001b[?25lpulling manifest ⠋ \u001b[?25h\u001b[?25l\u001b[2K\u001b[1Gpulling manifest ⠙ \u001b[?25h\u001b[?25l\u001b[2K\u001b[1Gpulling manifest ⠹ \u001b[?25h\u001b[?25l\u001b[2K\u001b[1Gpulling manifest ⠸ \u001b[?25h\u001b[?25l\u001b[2K\u001b[1Gpulling manifest \n",
      "pulling dde5aa3fc5ff... 100% ▕████████████████▏ 2.0 GB                         \n",
      "pulling 966de95ca8a6... 100% ▕████████████████▏ 1.4 KB                         \n",
      "pulling fcc5a6bec9da... 100% ▕████████████████▏ 7.7 KB                         \n",
      "pulling a70ff7e570d9... 100% ▕████████████████▏ 6.0 KB                         \u001b[?25h\u001b[?25l\u001b[2K\u001b[1G\u001b[A\u001b[2K\u001b[1G\u001b[A\u001b[2K\u001b[1G\u001b[A\u001b[2K\u001b[1G\u001b[A\u001b[2K\u001b[1Gpulling manifest \n",
      "pulling dde5aa3fc5ff... 100% ▕████████████████▏ 2.0 GB                         \n",
      "pulling 966de95ca8a6... 100% ▕████████████████▏ 1.4 KB                         \n",
      "pulling fcc5a6bec9da... 100% ▕████████████████▏ 7.7 KB                         \n",
      "pulling a70ff7e570d9... 100% ▕████████████████▏ 6.0 KB                         \n",
      "pulling 56bb8bd477a5... 100% ▕████████████████▏   96 B                         \n",
      "pulling 34bb5ab01051... 100% ▕████████████████▏  561 B                         \n",
      "verifying sha256 digest \n",
      "writing manifest \n",
      "success \u001b[?25h\n"
     ]
    }
   ],
   "source": [
    "# Let's just make sure the model is loaded\n",
    "\n",
    "!ollama pull llama3.2"
   ]
  },
  {
   "cell_type": "code",
   "execution_count": 9,
   "id": "7bb9c624-14f0-4945-a719-8ddb64f66f47",
   "metadata": {},
   "outputs": [],
   "source": [
    "payload = {\n",
    "        \"model\": MODEL,\n",
    "        \"messages\": messages,\n",
    "        \"stream\": False\n",
    "    }"
   ]
  },
  {
   "cell_type": "code",
   "execution_count": 10,
   "id": "42b9f644-522d-4e05-a691-56e7658c0ea9",
   "metadata": {},
   "outputs": [
    {
     "name": "stdout",
     "output_type": "stream",
     "text": [
      "Generative AI has numerous business applications across various industries, including:\n",
      "\n",
      "1. **Content Creation**: Generative AI can be used to generate high-quality content such as articles, blog posts, social media posts, and even entire books. This can help businesses save time and money on content creation while maintaining consistency and quality.\n",
      "2. **Marketing Automation**: Generative AI can be used to create personalized marketing messages, product descriptions, and ad copy that resonate with specific customer segments. This can lead to increased conversion rates and improved customer engagement.\n",
      "3. **Product Design**: Generative AI can be used to design new products, including furniture, electronics, and even clothing. This can help businesses reduce the time and cost associated with traditional product design processes.\n",
      "4. **Data Analytics**: Generative AI can be used to analyze large datasets and generate insights that would be difficult or impossible for humans to extract on their own. This can help businesses make data-driven decisions and gain a competitive edge.\n",
      "5. **Customer Service**: Generative AI-powered chatbots can be used to provide 24/7 customer support, answering common questions and helping customers with simple issues. This can help businesses reduce the cost of human customer support agents while maintaining high levels of customer satisfaction.\n",
      "6. **Financial Modeling**: Generative AI can be used to create complex financial models that simulate different scenarios and predict potential outcomes. This can help businesses make more informed investment decisions and mitigate risk.\n",
      "7. **Supply Chain Optimization**: Generative AI can be used to optimize supply chain operations, predicting demand fluctuations, managing inventory levels, and identifying potential bottlenecks.\n",
      "8. **Cybersecurity**: Generative AI can be used to detect and respond to cyber threats in real-time, helping businesses stay one step ahead of malicious actors.\n",
      "9. **Healthcare**: Generative AI can be used to analyze medical images, diagnose diseases, and develop personalized treatment plans. This can help healthcare organizations improve patient outcomes and reduce costs.\n",
      "10. **Education**: Generative AI can be used to create personalized learning experiences for students, adapting to their individual learning styles and abilities.\n",
      "\n",
      "Some specific examples of businesses that are already leveraging generative AI include:\n",
      "\n",
      "* **Salesforce**: Using generative AI to personalize customer interactions and provide real-time insights into customer behavior.\n",
      "* **Nike**: Using generative AI to design new products and create personalized marketing messages for its customers.\n",
      "* **Walmart**: Using generative AI to optimize supply chain operations and improve inventory management.\n",
      "* **IBM**: Using generative AI to analyze medical images and develop personalized treatment plans for cancer patients.\n",
      "\n",
      "These are just a few examples of the many ways in which businesses are using generative AI to drive innovation, productivity, and competitiveness.\n"
     ]
    }
   ],
   "source": [
    "# If this doesn't work for any reason, try the 2 versions in the following cells\n",
    "# And double check the instructions in the 'Recap on installation of Ollama' at the top of this lab\n",
    "# And if none of that works - contact me!\n",
    "\n",
    "response = requests.post(OLLAMA_API, json=payload, headers=HEADERS)\n",
    "print(response.json()['message']['content'])"
   ]
  },
  {
   "cell_type": "markdown",
   "id": "6a021f13-d6a1-4b96-8e18-4eae49d876fe",
   "metadata": {},
   "source": [
    "# Introducing the ollama package\n",
    "\n",
    "And now we'll do the same thing, but using the elegant ollama python package instead of a direct HTTP call.\n",
    "\n",
    "Under the hood, it's making the same call as above to the ollama server running at localhost:11434"
   ]
  },
  {
   "cell_type": "code",
   "execution_count": 11,
   "id": "7745b9c4-57dc-4867-9180-61fa5db55eb8",
   "metadata": {},
   "outputs": [
    {
     "name": "stdout",
     "output_type": "stream",
     "text": [
      "Generative AI (Artificial Intelligence) has numerous business applications across various industries. Here are some examples:\n",
      "\n",
      "1. **Content Generation**: Generative AI can create high-quality, engaging content such as articles, social media posts, product descriptions, and even entire books. This can help businesses save time and resources, while also improving the quality of their content.\n",
      "2. **Chatbots and Virtual Assistants**: Generative AI-powered chatbots can engage with customers, provide support, and answer frequently asked questions. They can also be used to power virtual assistants for customer service, HR, and other departments.\n",
      "3. **Image and Video Generation**: Generative AI can create realistic images and videos that can be used in advertising, marketing, and e-commerce. For example, it can generate product images, social media posts with images, or even entire video ads.\n",
      "4. **Product Design**: Generative AI can help designers create new products, such as clothing, furniture, or electronic devices. It can also aid in the redesign of existing products based on customer feedback and market trends.\n",
      "5. **Marketing Automation**: Generative AI can automate repetitive marketing tasks, such as email campaigns, social media posts, and lead generation. This can help businesses save time and resources while improving their marketing efficiency.\n",
      "6. **Data Analysis and Insights**: Generative AI can analyze large datasets to identify patterns, trends, and insights that may not be apparent through traditional data analysis methods. This can help businesses make more informed decisions and improve their operations.\n",
      "7. **Predictive Maintenance**: Generative AI can predict when equipment or machinery is likely to fail, allowing businesses to schedule maintenance and reduce downtime.\n",
      "8. **Customer Segmentation**: Generative AI can analyze customer data to identify patterns and segments that may not be apparent through traditional methods. This can help businesses tailor their marketing efforts and improve customer engagement.\n",
      "9. **Content Moderation**: Generative AI-powered content moderation tools can help detect and remove inappropriate or hate speech content from social media platforms, improving user experience and reducing the spread of misinformation.\n",
      "10. **Supply Chain Optimization**: Generative AI can analyze supply chain data to identify bottlenecks, optimize inventory management, and predict demand patterns, helping businesses improve their logistics and reduce costs.\n",
      "\n",
      "Some of the key industries that are leveraging generative AI include:\n",
      "\n",
      "1. **E-commerce**: Companies like Amazon, Walmart, and eBay use generative AI to create personalized product recommendations, improve customer experience, and automate marketing efforts.\n",
      "2. **Finance**: Generative AI is being used in finance to analyze financial data, detect anomalies, and predict market trends, helping businesses make more informed investment decisions.\n",
      "3. **Healthcare**: Generative AI is being used in healthcare to analyze medical images, diagnose diseases, and develop personalized treatment plans.\n",
      "4. **Retail**: Companies like Nike, Adidas, and Sephora use generative AI to create new product designs, optimize inventory management, and improve customer engagement.\n",
      "\n",
      "These are just a few examples of the many business applications of generative AI. As the technology continues to evolve, we can expect to see even more innovative uses in various industries.\n"
     ]
    }
   ],
   "source": [
    "import ollama\n",
    "\n",
    "response = ollama.chat(model=MODEL, messages=messages)\n",
    "print(response['message']['content'])"
   ]
  },
  {
   "cell_type": "markdown",
   "id": "a4704e10-f5fb-4c15-a935-f046c06fb13d",
   "metadata": {},
   "source": [
    "## Alternative approach - using OpenAI python library to connect to Ollama"
   ]
  },
  {
   "cell_type": "code",
   "execution_count": 12,
   "id": "23057e00-b6fc-4678-93a9-6b31cb704bff",
   "metadata": {},
   "outputs": [
    {
     "name": "stdout",
     "output_type": "stream",
     "text": [
      "Generative AI has numerous business applications across various industries, including:\n",
      "\n",
      "1. **Content Creation**: Generative AI can be used to generate high-quality content such as articles, blog posts, social media posts, and even entire books. This can help businesses save time and resources while still producing engaging and relevant content.\n",
      "2. **Marketing Automation**: Generative AI can be used to create personalized marketing campaigns, automated emails, and customer interactions, helping businesses personalize their marketing efforts and customer experiences.\n",
      "3. **Product Design and Development**: Generative AI can be used to design new product concepts, user interfaces, and even entire products themselves. This can help businesses quickly prototype and test new ideas without the need for extensive human expertise or resources.\n",
      "4. **Data Science and Analytics**: Generative AI can be used to analyze large datasets, identify patterns, and make predictions, helping businesses gain insights into customer behavior, market trends, and business performance.\n",
      "5. **Customer Service Chatbots**: Generative AI can be used to create custom-built chatbots that can understand and respond to customer inquiries, improving the overall customer experience and reducing support requests.\n",
      "6. **Innovation and R&D**: Generative AI can be used to generate new ideas for products, services, or business models, helping businesses stay ahead of the competition and innovate more efficiently.\n",
      "7. **Supply Chain Optimization**: Generative AI can be used to optimize supply chain operations, predict demand, and identify opportunities for cost savings, helping businesses improve their overall efficiency and reduce waste.\n",
      "8. **Financial Modeling and Forecasting**: Generative AI can be used to create financial models, forecasts, and predictions, helping businesses make more informed investment decisions and stay ahead of market trends.\n",
      "9. **Human Resources Management**: Generative AI can be used to automate tasks such as employee onboarding, HR paperwork, and talent matching, freeing up HR teams to focus on more strategic work.\n",
      "10. **Medical Imaging Analysis**: Generative AI can be used to analyze medical images such as X-rays, CT scans, and MRIs, helping doctors diagnose diseases and develop new treatment plans.\n",
      "\n",
      "Some specific business use cases for Generative AI include:\n",
      "\n",
      "* **Chatbot-generated sales scripts**: Using Generative AI to create personalized sales scripts that help sales teams close deals faster.\n",
      "* **Automating customer support responses**: Using Generative AI to generate pre-built customer support response templates that save time and improve customer satisfaction.\n",
      "* **Designing customized marketing campaigns**: Using Generative AI to create personalized marketing campaigns for customers based on their behavior, preferences, and demographics.\n",
      "* **Predicting product demand**: Using Generative AI to analyze sales data and predict future demand for products or services.\n",
      "* **Developing custom employee training programs**: Using Generative AI to create personalized employee training programs that help upskill employees.\n",
      "\n",
      "These are just a few examples of the many business applications of Generative AI. As the technology continues to evolve, we can expect to see even more innovative use cases and applications in various industries.\n"
     ]
    }
   ],
   "source": [
    "# There's actually an alternative approach that some people might prefer\n",
    "# You can use the OpenAI client python library to call Ollama:\n",
    "\n",
    "from openai import OpenAI\n",
    "ollama_via_openai = OpenAI(base_url='http://localhost:11434/v1', api_key='ollama')\n",
    "\n",
    "response = ollama_via_openai.chat.completions.create(\n",
    "    model=MODEL,\n",
    "    messages=messages\n",
    ")\n",
    "\n",
    "print(response.choices[0].message.content)"
   ]
  },
  {
   "cell_type": "markdown",
   "id": "1622d9bb-5c68-4d4e-9ca4-b492c751f898",
   "metadata": {},
   "source": [
    "# NOW the exercise for you\n",
    "\n",
    "Take the code from day1 and incorporate it here, to build a website summarizer that uses Llama 3.2 running locally instead of OpenAI; use either of the above approaches."
   ]
  },
  {
   "cell_type": "code",
   "execution_count": 13,
   "id": "402d5686-4e76-4110-b65a-b3906c35c0a4",
   "metadata": {},
   "outputs": [],
   "source": [
    "headers = {\n",
    " \"User-Agent\": \"Mozilla/5.0 (Windows NT 10.0; Win64; x64) AppleWebKit/537.36 (KHTML, like Gecko) Chrome/117.0.0.0 Safari/537.36\"\n",
    "}\n",
    "\n",
    "class Website:\n",
    "\n",
    "    def __init__(self, url):\n",
    "        \"\"\"\n",
    "        Create this Website object from the given url using the BeautifulSoup library\n",
    "        \"\"\"\n",
    "        self.url = url\n",
    "        response = requests.get(url, headers=headers)\n",
    "        soup = BeautifulSoup(response.content, 'html.parser')\n",
    "        self.title = soup.title.string if soup.title else \"No title found\"\n",
    "        for irrelevant in soup.body([\"script\", \"style\", \"img\", \"input\"]):\n",
    "            irrelevant.decompose()\n",
    "        self.text = soup.body.get_text(separator=\"\\n\", strip=True)"
   ]
  },
  {
   "cell_type": "code",
   "execution_count": 25,
   "id": "42e713e2-83bb-4e54-bb89-3acc07a24592",
   "metadata": {},
   "outputs": [],
   "source": [
    "system_prompt = \"You are a bot that summarises the headlines for today. Please summarise the top three news and return response in markdown.\"\n",
    "\n",
    "def user_prompt_for(website: Website):\n",
    "    user_prompt = f\"You are looking at a website titled {website.title}\"\n",
    "    user_prompt += \"\\nThe contents of this website is as follows; \\\n",
    "please provide a short summary of this website in markdown. \\\n",
    "If it includes news or announcements, then summarize these too.\\n\\n\"\n",
    "    user_prompt += website.text\n",
    "    return user_prompt"
   ]
  },
  {
   "cell_type": "code",
   "execution_count": 26,
   "id": "edf3bcc0-ca55-4135-bca3-80d4110b722f",
   "metadata": {},
   "outputs": [],
   "source": [
    "def messages_for(website):\n",
    "    return [\n",
    "        {\"role\": \"system\", \"content\": system_prompt},\n",
    "        {\"role\": \"user\", \"content\": user_prompt_for(website)}\n",
    "    ]"
   ]
  },
  {
   "cell_type": "code",
   "execution_count": null,
   "id": "c7f620ae-4c73-4e27-9a03-fc95f2e645db",
   "metadata": {},
   "outputs": [],
   "source": []
  },
  {
   "cell_type": "code",
   "execution_count": 27,
   "id": "171af1df-2dd7-4075-b7d8-f463e7928e38",
   "metadata": {},
   "outputs": [
    {
     "name": "stdout",
     "output_type": "stream",
     "text": [
      "Here's a summary of the top news stories and features from various sections of the BBC website:\n",
      "\n",
      "**News**\n",
      "\n",
      "* \"Aurora shines across the UK in first display of 2025\" - A rare solar phenomenon has been spotted in the UK, with many people taking to social media to share photos and videos.\n",
      "* \"Hockney and Basquiat art fair rediscovered after lost for decades\" - An old art fair held at a London estate has been dug out from archives, revealing forgotten artworks by famous artists like David Hockney and Jean-Michel Basquiat.\n",
      "\n",
      "**Uplifting stories**\n",
      "\n",
      "* \"Friends celebrate enduring 50-year friendship by recreating holiday photo\" - Four friends who met while studying have celebrated half a century of their remarkable bond with a recreated photograph.\n",
      "* \"Ultra-racing couple share secrets that helped them win gruelling 800km cycle race\" - The winners of an epic ultra-marathon bike ride reveal the key to their success in this candid interview.\n",
      "\n",
      "**Science and technology**\n",
      "\n",
      "* \"New study suggests the moon might be much older than we thought\" - Scientists have re-examined data from a rare lunar event, suggesting that the Moon may be billions of years old.\n",
      "* \"What tech might we expect in 2025?\" - The BBC looks ahead to some of the new technologies and innovations we can expect next year.\n",
      "\n",
      "**Entertainment**\n",
      "\n",
      "* Gavin & Stacey: A Fond Farewell (documentary) - A special which tells the story of one of Britain's best-loved sitcoms.\n",
      "* \"The early years of Nelson Mandela\" (Sound documentary) - A look back at the life of a remarkable leader.\n",
      "\n",
      "**Quizzes and games**\n",
      "\n",
      "* Identify the footballer from their childhood photo\n",
      "* The archive TV quiz which might inspire New Year's resolutions\n",
      "\n",
      "**Business and economics**\n",
      "\n",
      "* No business news is highlighted in this section.\n",
      "\n",
      "**Travel and outdoor activities**\n",
      "\n",
      "* No travel-related news is highlighted in this section.\n",
      "\n",
      "This summary only covers a brief overview of some of the top stories featured on the BBC website. If you would like more information or wish to explore specific topics further, I would be happy to help!\n"
     ]
    }
   ],
   "source": [
    "from openai import OpenAI\n",
    "ollama_via_openai = OpenAI(base_url='http://localhost:11434/v1', api_key='ollama')\n",
    "\n",
    "response = ollama_via_openai.chat.completions.create(\n",
    "    model=MODEL,\n",
    "    messages=messages_for(Website(\"https://bbc.co.uk\"))\n",
    ")\n",
    "\n",
    "print(response.choices[0].message.content)"
   ]
  },
  {
   "cell_type": "code",
   "execution_count": null,
   "id": "5cfa15b9-b423-4e67-8ed1-cfd017e3327d",
   "metadata": {},
   "outputs": [],
   "source": []
  }
 ],
 "metadata": {
  "kernelspec": {
   "display_name": "Python 3 (ipykernel)",
   "language": "python",
   "name": "python3"
  },
  "language_info": {
   "codemirror_mode": {
    "name": "ipython",
    "version": 3
   },
   "file_extension": ".py",
   "mimetype": "text/x-python",
   "name": "python",
   "nbconvert_exporter": "python",
   "pygments_lexer": "ipython3",
   "version": "3.11.6"
  }
 },
 "nbformat": 4,
 "nbformat_minor": 5
}
